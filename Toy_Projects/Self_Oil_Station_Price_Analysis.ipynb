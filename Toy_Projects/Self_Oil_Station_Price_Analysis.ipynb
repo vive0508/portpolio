{
 "cells": [
  {
   "cell_type": "markdown",
   "id": "256f049b",
   "metadata": {
    "id": "256f049b"
   },
   "source": [
    "# Self Oil Station Prcie Analysis "
   ]
  },
  {
   "cell_type": "markdown",
   "id": "90c96312",
   "metadata": {},
   "source": [
    "- 목적 : 셀프 주유소가 진짜 더 가격이 싼 지, 어느 구가 제일 비싼지 확인\n",
    "- 데이터 : 한국석유공사 제공 데이터"
   ]
  },
  {
   "cell_type": "markdown",
   "id": "38724860",
   "metadata": {
    "id": "38724860"
   },
   "source": [
    "## 1. 웹 스크래핑\n",
    "- https://www.opinet.co.kr/searRgSelect.do\n",
    "- 사이트 구조 확인 후 셀레니움으로 데이터 다운로드"
   ]
  },
  {
   "cell_type": "markdown",
   "id": "eeaed0d5",
   "metadata": {},
   "source": [
    "---"
   ]
  },
  {
   "cell_type": "markdown",
   "id": "a06f3049",
   "metadata": {
    "id": "a06f3049"
   },
   "source": [
    "## 2. 데이터 전처리"
   ]
  },
  {
   "cell_type": "code",
   "execution_count": 79,
   "id": "04ca9dc0",
   "metadata": {
    "id": "04ca9dc0"
   },
   "outputs": [],
   "source": [
    "# 필요한 모듈 불러오기\n",
    "# glob : 파일의 목록을 읽어오고 정리해주는 모듈\n",
    "import pandas as pd \n",
    "from glob import glob "
   ]
  },
  {
   "cell_type": "code",
   "execution_count": 83,
   "id": "67bd7bc1",
   "metadata": {
    "id": "67bd7bc1",
    "outputId": "6f88f09f-33b1-4fa7-e55d-fcb76e7eaab0"
   },
   "outputs": [
    {
     "data": {
      "text/plain": [
       "['../data\\\\지역_위치별(주유소) (1).xls',\n",
       " '../data\\\\지역_위치별(주유소) (10).xls',\n",
       " '../data\\\\지역_위치별(주유소) (11).xls',\n",
       " '../data\\\\지역_위치별(주유소) (12).xls',\n",
       " '../data\\\\지역_위치별(주유소) (13).xls',\n",
       " '../data\\\\지역_위치별(주유소) (14).xls',\n",
       " '../data\\\\지역_위치별(주유소) (15).xls',\n",
       " '../data\\\\지역_위치별(주유소) (16).xls',\n",
       " '../data\\\\지역_위치별(주유소) (17).xls',\n",
       " '../data\\\\지역_위치별(주유소) (18).xls',\n",
       " '../data\\\\지역_위치별(주유소) (19).xls',\n",
       " '../data\\\\지역_위치별(주유소) (2).xls',\n",
       " '../data\\\\지역_위치별(주유소) (20).xls',\n",
       " '../data\\\\지역_위치별(주유소) (21).xls',\n",
       " '../data\\\\지역_위치별(주유소) (22).xls',\n",
       " '../data\\\\지역_위치별(주유소) (23).xls',\n",
       " '../data\\\\지역_위치별(주유소) (24).xls',\n",
       " '../data\\\\지역_위치별(주유소) (25).xls',\n",
       " '../data\\\\지역_위치별(주유소) (3).xls',\n",
       " '../data\\\\지역_위치별(주유소) (4).xls',\n",
       " '../data\\\\지역_위치별(주유소) (5).xls',\n",
       " '../data\\\\지역_위치별(주유소) (6).xls',\n",
       " '../data\\\\지역_위치별(주유소) (7).xls',\n",
       " '../data\\\\지역_위치별(주유소) (8).xls',\n",
       " '../data\\\\지역_위치별(주유소) (9).xls',\n",
       " '../data\\\\지역_위치별(주유소).xls']"
      ]
     },
     "execution_count": 83,
     "metadata": {},
     "output_type": "execute_result"
    }
   ],
   "source": [
    "# 셀레니움으로 다운받은 파일목록 한 번에 가져오기\n",
    "# 와일드카드 * (all)\n",
    "stations_raw_datas = glob(\"../data/지역_*.xls\")\n",
    "stations_raw_datas"
   ]
  },
  {
   "cell_type": "code",
   "execution_count": 84,
   "id": "8c51a6df",
   "metadata": {
    "scrolled": true
   },
   "outputs": [
    {
     "data": {
      "text/plain": [
       "list"
      ]
     },
     "execution_count": 84,
     "metadata": {},
     "output_type": "execute_result"
    }
   ],
   "source": [
    "type(stations_raw_data)"
   ]
  },
  {
   "cell_type": "code",
   "execution_count": 85,
   "id": "0601d79d",
   "metadata": {
    "id": "0601d79d"
   },
   "outputs": [],
   "source": [
    "# 파일 합치기 : 1. 리스트로 만들기\n",
    "\n",
    "stations_raw_total = [] \n",
    "\n",
    "for raw_data in stations_raw_datas:\n",
    "    data = pd.read_excel(raw_data, header=2)\n",
    "    stations_raw_total.append(data)"
   ]
  },
  {
   "cell_type": "code",
   "execution_count": 89,
   "id": "17f27ac2",
   "metadata": {
    "id": "17f27ac2",
    "outputId": "a2700ed8-7641-43da-b81d-23a3fc5f473f"
   },
   "outputs": [
    {
     "data": {
      "text/html": [
       "<div>\n",
       "<style scoped>\n",
       "    .dataframe tbody tr th:only-of-type {\n",
       "        vertical-align: middle;\n",
       "    }\n",
       "\n",
       "    .dataframe tbody tr th {\n",
       "        vertical-align: top;\n",
       "    }\n",
       "\n",
       "    .dataframe thead th {\n",
       "        text-align: right;\n",
       "    }\n",
       "</style>\n",
       "<table border=\"1\" class=\"dataframe\">\n",
       "  <thead>\n",
       "    <tr style=\"text-align: right;\">\n",
       "      <th></th>\n",
       "      <th>지역</th>\n",
       "      <th>상호</th>\n",
       "      <th>주소</th>\n",
       "      <th>상표</th>\n",
       "      <th>전화번호</th>\n",
       "      <th>셀프여부</th>\n",
       "      <th>고급휘발유</th>\n",
       "      <th>휘발유</th>\n",
       "      <th>경유</th>\n",
       "      <th>실내등유</th>\n",
       "    </tr>\n",
       "  </thead>\n",
       "  <tbody>\n",
       "    <tr>\n",
       "      <th>0</th>\n",
       "      <td>서울특별시</td>\n",
       "      <td>수유동주유소</td>\n",
       "      <td>서울특별시 강북구  도봉로 395 (수유동)</td>\n",
       "      <td>GS칼텍스</td>\n",
       "      <td>02-902-9470</td>\n",
       "      <td>Y</td>\n",
       "      <td>-</td>\n",
       "      <td>1507</td>\n",
       "      <td>1297</td>\n",
       "      <td>-</td>\n",
       "    </tr>\n",
       "    <tr>\n",
       "      <th>1</th>\n",
       "      <td>서울특별시</td>\n",
       "      <td>태창에너지 좋은기름주유소</td>\n",
       "      <td>서울특별시 강북구  덕릉로 158 (번동)</td>\n",
       "      <td>S-OIL</td>\n",
       "      <td>02-989-9806</td>\n",
       "      <td>N</td>\n",
       "      <td>-</td>\n",
       "      <td>1519</td>\n",
       "      <td>1319</td>\n",
       "      <td>-</td>\n",
       "    </tr>\n",
       "    <tr>\n",
       "      <th>2</th>\n",
       "      <td>서울특별시</td>\n",
       "      <td>(주)에프알엔디 직영 송정주유소</td>\n",
       "      <td>서울특별시 강북구 인수봉로 185 (수유동)</td>\n",
       "      <td>SK에너지</td>\n",
       "      <td>02-993-5189</td>\n",
       "      <td>N</td>\n",
       "      <td>-</td>\n",
       "      <td>1519</td>\n",
       "      <td>1309</td>\n",
       "      <td>-</td>\n",
       "    </tr>\n",
       "    <tr>\n",
       "      <th>3</th>\n",
       "      <td>서울특별시</td>\n",
       "      <td>지에스이앤알 직영 미아주유소</td>\n",
       "      <td>서울특별시 강북구  도봉로 122 (미아동)</td>\n",
       "      <td>GS칼텍스</td>\n",
       "      <td>02-987-5152</td>\n",
       "      <td>Y</td>\n",
       "      <td>1890</td>\n",
       "      <td>1519</td>\n",
       "      <td>1309</td>\n",
       "      <td>-</td>\n",
       "    </tr>\n",
       "    <tr>\n",
       "      <th>4</th>\n",
       "      <td>서울특별시</td>\n",
       "      <td>세종에너지 직영 세종주유소</td>\n",
       "      <td>서울특별시 강북구 삼양로 410 (수유동)</td>\n",
       "      <td>S-OIL</td>\n",
       "      <td>02-907-5182</td>\n",
       "      <td>Y</td>\n",
       "      <td>-</td>\n",
       "      <td>1519</td>\n",
       "      <td>1309</td>\n",
       "      <td>1000</td>\n",
       "    </tr>\n",
       "  </tbody>\n",
       "</table>\n",
       "</div>"
      ],
      "text/plain": [
       "      지역                 상호                        주소     상표         전화번호  \\\n",
       "0  서울특별시             수유동주유소  서울특별시 강북구  도봉로 395 (수유동)  GS칼텍스  02-902-9470   \n",
       "1  서울특별시      태창에너지 좋은기름주유소   서울특별시 강북구  덕릉로 158 (번동)  S-OIL  02-989-9806   \n",
       "2  서울특별시  (주)에프알엔디 직영 송정주유소  서울특별시 강북구 인수봉로 185 (수유동)  SK에너지  02-993-5189   \n",
       "3  서울특별시    지에스이앤알 직영 미아주유소  서울특별시 강북구  도봉로 122 (미아동)  GS칼텍스  02-987-5152   \n",
       "4  서울특별시     세종에너지 직영 세종주유소   서울특별시 강북구 삼양로 410 (수유동)  S-OIL  02-907-5182   \n",
       "\n",
       "  셀프여부 고급휘발유   휘발유    경유  실내등유  \n",
       "0    Y     -  1507  1297     -  \n",
       "1    N     -  1519  1319     -  \n",
       "2    N     -  1519  1309     -  \n",
       "3    Y  1890  1519  1309     -  \n",
       "4    Y     -  1519  1309  1000  "
      ]
     },
     "execution_count": 89,
     "metadata": {},
     "output_type": "execute_result"
    }
   ],
   "source": [
    "# 파일 합치기 : 2. pd.concat()로 합치기\n",
    "# 리스트 재배열 : df.reset_index\n",
    "stations_raw = pd.concat(stations_raw_total)\n",
    "stations_raw.reset_index(drop=True, inplace=True)\n",
    "stations_raw.head(5)"
   ]
  },
  {
   "cell_type": "code",
   "execution_count": 90,
   "id": "b99c0469",
   "metadata": {
    "id": "b99c0469",
    "outputId": "df6d8cb8-9eb1-4cfb-de39-e22dc134ac96"
   },
   "outputs": [
    {
     "name": "stdout",
     "output_type": "stream",
     "text": [
      "<class 'pandas.core.frame.DataFrame'>\n",
      "RangeIndex: 543 entries, 0 to 542\n",
      "Data columns (total 10 columns):\n",
      " #   Column  Non-Null Count  Dtype \n",
      "---  ------  --------------  ----- \n",
      " 0   지역      543 non-null    object\n",
      " 1   상호      543 non-null    object\n",
      " 2   주소      543 non-null    object\n",
      " 3   상표      543 non-null    object\n",
      " 4   전화번호    543 non-null    object\n",
      " 5   셀프여부    543 non-null    object\n",
      " 6   고급휘발유   543 non-null    object\n",
      " 7   휘발유     543 non-null    object\n",
      " 8   경유      543 non-null    object\n",
      " 9   실내등유    543 non-null    object\n",
      "dtypes: object(10)\n",
      "memory usage: 42.5+ KB\n"
     ]
    }
   ],
   "source": [
    "stations_raw.info()"
   ]
  },
  {
   "cell_type": "code",
   "execution_count": 91,
   "id": "44083457",
   "metadata": {
    "id": "44083457",
    "outputId": "54d21740-6df7-4278-907a-d690a586c391"
   },
   "outputs": [
    {
     "data": {
      "text/plain": [
       "Index(['지역', '상호', '주소', '상표', '전화번호', '셀프여부', '고급휘발유', '휘발유', '경유', '실내등유'], dtype='object')"
      ]
     },
     "execution_count": 91,
     "metadata": {},
     "output_type": "execute_result"
    }
   ],
   "source": [
    "# 컬럼명 확인하고 필요한 데이터만 확인\n",
    "stations_raw.columns"
   ]
  },
  {
   "cell_type": "code",
   "execution_count": 92,
   "id": "3ae05555",
   "metadata": {
    "id": "3ae05555",
    "outputId": "2782a2a8-9688-4df4-a37e-42f4d2380c95"
   },
   "outputs": [
    {
     "data": {
      "text/html": [
       "<div>\n",
       "<style scoped>\n",
       "    .dataframe tbody tr th:only-of-type {\n",
       "        vertical-align: middle;\n",
       "    }\n",
       "\n",
       "    .dataframe tbody tr th {\n",
       "        vertical-align: top;\n",
       "    }\n",
       "\n",
       "    .dataframe thead th {\n",
       "        text-align: right;\n",
       "    }\n",
       "</style>\n",
       "<table border=\"1\" class=\"dataframe\">\n",
       "  <thead>\n",
       "    <tr style=\"text-align: right;\">\n",
       "      <th></th>\n",
       "      <th>상호</th>\n",
       "      <th>주소</th>\n",
       "      <th>가격</th>\n",
       "      <th>셀프</th>\n",
       "      <th>상표</th>\n",
       "    </tr>\n",
       "  </thead>\n",
       "  <tbody>\n",
       "    <tr>\n",
       "      <th>538</th>\n",
       "      <td>명일주유소</td>\n",
       "      <td>서울 강동구 고덕로 168 (명일동)</td>\n",
       "      <td>1679</td>\n",
       "      <td>N</td>\n",
       "      <td>SK에너지</td>\n",
       "    </tr>\n",
       "    <tr>\n",
       "      <th>539</th>\n",
       "      <td>(주)삼표에너지 고덕주유소</td>\n",
       "      <td>서울 강동구 고덕로 39 (암사동)</td>\n",
       "      <td>1689</td>\n",
       "      <td>N</td>\n",
       "      <td>GS칼텍스</td>\n",
       "    </tr>\n",
       "    <tr>\n",
       "      <th>540</th>\n",
       "      <td>CJ대한통운(주)직영 천호점주유소</td>\n",
       "      <td>서울 강동구 천중로 67 (천호동)</td>\n",
       "      <td>1697</td>\n",
       "      <td>N</td>\n",
       "      <td>현대오일뱅크</td>\n",
       "    </tr>\n",
       "    <tr>\n",
       "      <th>541</th>\n",
       "      <td>강동주유소</td>\n",
       "      <td>서울 강동구 양재대로 1509 (길동)</td>\n",
       "      <td>1988</td>\n",
       "      <td>N</td>\n",
       "      <td>SK에너지</td>\n",
       "    </tr>\n",
       "    <tr>\n",
       "      <th>542</th>\n",
       "      <td>명진석유(주)동서울주유소</td>\n",
       "      <td>서울특별시 강동구  천호대로 1456 (상일동)</td>\n",
       "      <td>-</td>\n",
       "      <td>Y</td>\n",
       "      <td>GS칼텍스</td>\n",
       "    </tr>\n",
       "  </tbody>\n",
       "</table>\n",
       "</div>"
      ],
      "text/plain": [
       "                     상호                          주소    가격 셀프      상표\n",
       "538               명일주유소        서울 강동구 고덕로 168 (명일동)  1679  N   SK에너지\n",
       "539      (주)삼표에너지 고덕주유소         서울 강동구 고덕로 39 (암사동)  1689  N   GS칼텍스\n",
       "540  CJ대한통운(주)직영 천호점주유소         서울 강동구 천중로 67 (천호동)  1697  N  현대오일뱅크\n",
       "541               강동주유소       서울 강동구 양재대로 1509 (길동)  1988  N   SK에너지\n",
       "542       명진석유(주)동서울주유소  서울특별시 강동구  천호대로 1456 (상일동)     -  Y   GS칼텍스"
      ]
     },
     "execution_count": 92,
     "metadata": {},
     "output_type": "execute_result"
    }
   ],
   "source": [
    "# 필요한 데이터만 뽑아 새로운 데이터프레임 생성\n",
    "stations = pd.DataFrame({\n",
    "    \"상호\": stations_raw[\"상호\"],\n",
    "    \"주소\": stations_raw[\"주소\"], \n",
    "    \"가격\": stations_raw[\"휘발유\"],\n",
    "    \"셀프\": stations_raw[\"셀프여부\"],\n",
    "    \"상표\": stations_raw[\"상표\"]\n",
    "})\n",
    "stations.tail()"
   ]
  },
  {
   "cell_type": "code",
   "execution_count": 93,
   "id": "5df36cc7",
   "metadata": {
    "id": "5df36cc7",
    "outputId": "2fe3d135-30d2-4bf4-dfa2-76ab6edefa0d"
   },
   "outputs": [
    {
     "data": {
      "text/html": [
       "<div>\n",
       "<style scoped>\n",
       "    .dataframe tbody tr th:only-of-type {\n",
       "        vertical-align: middle;\n",
       "    }\n",
       "\n",
       "    .dataframe tbody tr th {\n",
       "        vertical-align: top;\n",
       "    }\n",
       "\n",
       "    .dataframe thead th {\n",
       "        text-align: right;\n",
       "    }\n",
       "</style>\n",
       "<table border=\"1\" class=\"dataframe\">\n",
       "  <thead>\n",
       "    <tr style=\"text-align: right;\">\n",
       "      <th></th>\n",
       "      <th>상호</th>\n",
       "      <th>주소</th>\n",
       "      <th>가격</th>\n",
       "      <th>셀프</th>\n",
       "      <th>상표</th>\n",
       "      <th>구</th>\n",
       "    </tr>\n",
       "  </thead>\n",
       "  <tbody>\n",
       "    <tr>\n",
       "      <th>538</th>\n",
       "      <td>명일주유소</td>\n",
       "      <td>서울 강동구 고덕로 168 (명일동)</td>\n",
       "      <td>1679</td>\n",
       "      <td>N</td>\n",
       "      <td>SK에너지</td>\n",
       "      <td>강동구</td>\n",
       "    </tr>\n",
       "    <tr>\n",
       "      <th>539</th>\n",
       "      <td>(주)삼표에너지 고덕주유소</td>\n",
       "      <td>서울 강동구 고덕로 39 (암사동)</td>\n",
       "      <td>1689</td>\n",
       "      <td>N</td>\n",
       "      <td>GS칼텍스</td>\n",
       "      <td>강동구</td>\n",
       "    </tr>\n",
       "    <tr>\n",
       "      <th>540</th>\n",
       "      <td>CJ대한통운(주)직영 천호점주유소</td>\n",
       "      <td>서울 강동구 천중로 67 (천호동)</td>\n",
       "      <td>1697</td>\n",
       "      <td>N</td>\n",
       "      <td>현대오일뱅크</td>\n",
       "      <td>강동구</td>\n",
       "    </tr>\n",
       "    <tr>\n",
       "      <th>541</th>\n",
       "      <td>강동주유소</td>\n",
       "      <td>서울 강동구 양재대로 1509 (길동)</td>\n",
       "      <td>1988</td>\n",
       "      <td>N</td>\n",
       "      <td>SK에너지</td>\n",
       "      <td>강동구</td>\n",
       "    </tr>\n",
       "    <tr>\n",
       "      <th>542</th>\n",
       "      <td>명진석유(주)동서울주유소</td>\n",
       "      <td>서울특별시 강동구  천호대로 1456 (상일동)</td>\n",
       "      <td>-</td>\n",
       "      <td>Y</td>\n",
       "      <td>GS칼텍스</td>\n",
       "      <td>강동구</td>\n",
       "    </tr>\n",
       "  </tbody>\n",
       "</table>\n",
       "</div>"
      ],
      "text/plain": [
       "                     상호                          주소    가격 셀프      상표    구\n",
       "538               명일주유소        서울 강동구 고덕로 168 (명일동)  1679  N   SK에너지  강동구\n",
       "539      (주)삼표에너지 고덕주유소         서울 강동구 고덕로 39 (암사동)  1689  N   GS칼텍스  강동구\n",
       "540  CJ대한통운(주)직영 천호점주유소         서울 강동구 천중로 67 (천호동)  1697  N  현대오일뱅크  강동구\n",
       "541               강동주유소       서울 강동구 양재대로 1509 (길동)  1988  N   SK에너지  강동구\n",
       "542       명진석유(주)동서울주유소  서울특별시 강동구  천호대로 1456 (상일동)     -  Y   GS칼텍스  강동구"
      ]
     },
     "execution_count": 93,
     "metadata": {},
     "output_type": "execute_result"
    }
   ],
   "source": [
    "# 리스트 내포로 구컬럼을 생성한다\n",
    "stations[\"구\"] = [eachAddress.split()[1] for eachAddress in stations[\"주소\"]]\n",
    "stations.tail()"
   ]
  },
  {
   "cell_type": "code",
   "execution_count": 98,
   "id": "e081d7fa",
   "metadata": {
    "id": "e081d7fa",
    "outputId": "b43fa03e-94b8-4499-d4f9-53171f9c8f21"
   },
   "outputs": [
    {
     "data": {
      "text/plain": [
       "(array(['강북구', '동대문구', '동작구', '마포구', '서대문구', '서초구', '성동구', '서울특별시', '성북구',\n",
       "        '송파구', '양천구', '영등포구', '강서구', '용산구', '은평구', '종로구', '중구', '중랑구',\n",
       "        '강남구', '관악구', '광진구', '구로구', '금천구', '노원구', '도봉구', '특별시', '강동구'],\n",
       "       dtype=object),\n",
       " 27)"
      ]
     },
     "execution_count": 98,
     "metadata": {},
     "output_type": "execute_result"
    }
   ],
   "source": [
    "# 서울특별시, 특별시와 같은 데이터 오류 확인\n",
    "stations[\"구\"].unique(), len(stations[\"구\"].unique())"
   ]
  },
  {
   "cell_type": "code",
   "execution_count": 99,
   "id": "876f152b",
   "metadata": {
    "id": "876f152b"
   },
   "outputs": [
    {
     "data": {
      "text/plain": [
       "(array(['강북구', '동대문구', '동작구', '마포구', '서대문구', '서초구', '성동구', '성북구', '송파구',\n",
       "        '양천구', '영등포구', '강서구', '용산구', '은평구', '종로구', '중구', '중랑구', '강남구',\n",
       "        '관악구', '광진구', '구로구', '금천구', '노원구', '도봉구', '강동구'], dtype=object),\n",
       " 25)"
      ]
     },
     "execution_count": 99,
     "metadata": {},
     "output_type": "execute_result"
    }
   ],
   "source": [
    "# 데이터 오류 수정\n",
    "stations.loc[stations[\"구\"] == \"서울특별시\", \"구\"] = \"성동구\"\n",
    "stations.loc[stations[\"구\"] == \"특별시\", \"구\"] = \"도봉구\"\n",
    "stations[\"구\"].unique(), len(stations[\"구\"].unique())"
   ]
  },
  {
   "cell_type": "code",
   "execution_count": 100,
   "id": "f63b6681",
   "metadata": {
    "id": "f63b6681",
    "outputId": "183fec7c-9f78-4a6f-9f0d-db2dac5e3435"
   },
   "outputs": [
    {
     "ename": "ValueError",
     "evalue": "could not convert string to float: '-'",
     "output_type": "error",
     "traceback": [
      "\u001b[1;31m---------------------------------------------------------------------------\u001b[0m",
      "\u001b[1;31mValueError\u001b[0m                                Traceback (most recent call last)",
      "\u001b[1;32m<ipython-input-100-f063f4667481>\u001b[0m in \u001b[0;36m<module>\u001b[1;34m\u001b[0m\n\u001b[0;32m      1\u001b[0m \u001b[1;31m# 가격 데이터형 변환 object => float (but. 오류발생)\u001b[0m\u001b[1;33m\u001b[0m\u001b[1;33m\u001b[0m\u001b[1;33m\u001b[0m\u001b[0m\n\u001b[1;32m----> 2\u001b[1;33m \u001b[0mstations\u001b[0m\u001b[1;33m[\u001b[0m\u001b[1;34m\"가격\"\u001b[0m\u001b[1;33m]\u001b[0m \u001b[1;33m=\u001b[0m \u001b[0mstations\u001b[0m\u001b[1;33m[\u001b[0m\u001b[1;34m\"가격\"\u001b[0m\u001b[1;33m]\u001b[0m\u001b[1;33m.\u001b[0m\u001b[0mastype\u001b[0m\u001b[1;33m(\u001b[0m\u001b[1;34m\"float\"\u001b[0m\u001b[1;33m)\u001b[0m\u001b[1;33m\u001b[0m\u001b[1;33m\u001b[0m\u001b[0m\n\u001b[0m",
      "\u001b[1;32m~\\Anaconda3\\lib\\site-packages\\pandas\\core\\generic.py\u001b[0m in \u001b[0;36mastype\u001b[1;34m(self, dtype, copy, errors)\u001b[0m\n\u001b[0;32m   5875\u001b[0m         \u001b[1;32melse\u001b[0m\u001b[1;33m:\u001b[0m\u001b[1;33m\u001b[0m\u001b[1;33m\u001b[0m\u001b[0m\n\u001b[0;32m   5876\u001b[0m             \u001b[1;31m# else, only a single dtype is given\u001b[0m\u001b[1;33m\u001b[0m\u001b[1;33m\u001b[0m\u001b[1;33m\u001b[0m\u001b[0m\n\u001b[1;32m-> 5877\u001b[1;33m             \u001b[0mnew_data\u001b[0m \u001b[1;33m=\u001b[0m \u001b[0mself\u001b[0m\u001b[1;33m.\u001b[0m\u001b[0m_mgr\u001b[0m\u001b[1;33m.\u001b[0m\u001b[0mastype\u001b[0m\u001b[1;33m(\u001b[0m\u001b[0mdtype\u001b[0m\u001b[1;33m=\u001b[0m\u001b[0mdtype\u001b[0m\u001b[1;33m,\u001b[0m \u001b[0mcopy\u001b[0m\u001b[1;33m=\u001b[0m\u001b[0mcopy\u001b[0m\u001b[1;33m,\u001b[0m \u001b[0merrors\u001b[0m\u001b[1;33m=\u001b[0m\u001b[0merrors\u001b[0m\u001b[1;33m)\u001b[0m\u001b[1;33m\u001b[0m\u001b[1;33m\u001b[0m\u001b[0m\n\u001b[0m\u001b[0;32m   5878\u001b[0m             \u001b[1;32mreturn\u001b[0m \u001b[0mself\u001b[0m\u001b[1;33m.\u001b[0m\u001b[0m_constructor\u001b[0m\u001b[1;33m(\u001b[0m\u001b[0mnew_data\u001b[0m\u001b[1;33m)\u001b[0m\u001b[1;33m.\u001b[0m\u001b[0m__finalize__\u001b[0m\u001b[1;33m(\u001b[0m\u001b[0mself\u001b[0m\u001b[1;33m,\u001b[0m \u001b[0mmethod\u001b[0m\u001b[1;33m=\u001b[0m\u001b[1;34m\"astype\"\u001b[0m\u001b[1;33m)\u001b[0m\u001b[1;33m\u001b[0m\u001b[1;33m\u001b[0m\u001b[0m\n\u001b[0;32m   5879\u001b[0m \u001b[1;33m\u001b[0m\u001b[0m\n",
      "\u001b[1;32m~\\Anaconda3\\lib\\site-packages\\pandas\\core\\internals\\managers.py\u001b[0m in \u001b[0;36mastype\u001b[1;34m(self, dtype, copy, errors)\u001b[0m\n\u001b[0;32m    629\u001b[0m         \u001b[0mself\u001b[0m\u001b[1;33m,\u001b[0m \u001b[0mdtype\u001b[0m\u001b[1;33m,\u001b[0m \u001b[0mcopy\u001b[0m\u001b[1;33m:\u001b[0m \u001b[0mbool\u001b[0m \u001b[1;33m=\u001b[0m \u001b[1;32mFalse\u001b[0m\u001b[1;33m,\u001b[0m \u001b[0merrors\u001b[0m\u001b[1;33m:\u001b[0m \u001b[0mstr\u001b[0m \u001b[1;33m=\u001b[0m \u001b[1;34m\"raise\"\u001b[0m\u001b[1;33m\u001b[0m\u001b[1;33m\u001b[0m\u001b[0m\n\u001b[0;32m    630\u001b[0m     ) -> \"BlockManager\":\n\u001b[1;32m--> 631\u001b[1;33m         \u001b[1;32mreturn\u001b[0m \u001b[0mself\u001b[0m\u001b[1;33m.\u001b[0m\u001b[0mapply\u001b[0m\u001b[1;33m(\u001b[0m\u001b[1;34m\"astype\"\u001b[0m\u001b[1;33m,\u001b[0m \u001b[0mdtype\u001b[0m\u001b[1;33m=\u001b[0m\u001b[0mdtype\u001b[0m\u001b[1;33m,\u001b[0m \u001b[0mcopy\u001b[0m\u001b[1;33m=\u001b[0m\u001b[0mcopy\u001b[0m\u001b[1;33m,\u001b[0m \u001b[0merrors\u001b[0m\u001b[1;33m=\u001b[0m\u001b[0merrors\u001b[0m\u001b[1;33m)\u001b[0m\u001b[1;33m\u001b[0m\u001b[1;33m\u001b[0m\u001b[0m\n\u001b[0m\u001b[0;32m    632\u001b[0m \u001b[1;33m\u001b[0m\u001b[0m\n\u001b[0;32m    633\u001b[0m     def convert(\n",
      "\u001b[1;32m~\\Anaconda3\\lib\\site-packages\\pandas\\core\\internals\\managers.py\u001b[0m in \u001b[0;36mapply\u001b[1;34m(self, f, align_keys, ignore_failures, **kwargs)\u001b[0m\n\u001b[0;32m    425\u001b[0m                     \u001b[0mapplied\u001b[0m \u001b[1;33m=\u001b[0m \u001b[0mb\u001b[0m\u001b[1;33m.\u001b[0m\u001b[0mapply\u001b[0m\u001b[1;33m(\u001b[0m\u001b[0mf\u001b[0m\u001b[1;33m,\u001b[0m \u001b[1;33m**\u001b[0m\u001b[0mkwargs\u001b[0m\u001b[1;33m)\u001b[0m\u001b[1;33m\u001b[0m\u001b[1;33m\u001b[0m\u001b[0m\n\u001b[0;32m    426\u001b[0m                 \u001b[1;32melse\u001b[0m\u001b[1;33m:\u001b[0m\u001b[1;33m\u001b[0m\u001b[1;33m\u001b[0m\u001b[0m\n\u001b[1;32m--> 427\u001b[1;33m                     \u001b[0mapplied\u001b[0m \u001b[1;33m=\u001b[0m \u001b[0mgetattr\u001b[0m\u001b[1;33m(\u001b[0m\u001b[0mb\u001b[0m\u001b[1;33m,\u001b[0m \u001b[0mf\u001b[0m\u001b[1;33m)\u001b[0m\u001b[1;33m(\u001b[0m\u001b[1;33m**\u001b[0m\u001b[0mkwargs\u001b[0m\u001b[1;33m)\u001b[0m\u001b[1;33m\u001b[0m\u001b[1;33m\u001b[0m\u001b[0m\n\u001b[0m\u001b[0;32m    428\u001b[0m             \u001b[1;32mexcept\u001b[0m \u001b[1;33m(\u001b[0m\u001b[0mTypeError\u001b[0m\u001b[1;33m,\u001b[0m \u001b[0mNotImplementedError\u001b[0m\u001b[1;33m)\u001b[0m\u001b[1;33m:\u001b[0m\u001b[1;33m\u001b[0m\u001b[1;33m\u001b[0m\u001b[0m\n\u001b[0;32m    429\u001b[0m                 \u001b[1;32mif\u001b[0m \u001b[1;32mnot\u001b[0m \u001b[0mignore_failures\u001b[0m\u001b[1;33m:\u001b[0m\u001b[1;33m\u001b[0m\u001b[1;33m\u001b[0m\u001b[0m\n",
      "\u001b[1;32m~\\Anaconda3\\lib\\site-packages\\pandas\\core\\internals\\blocks.py\u001b[0m in \u001b[0;36mastype\u001b[1;34m(self, dtype, copy, errors)\u001b[0m\n\u001b[0;32m    671\u001b[0m             \u001b[0mvals1d\u001b[0m \u001b[1;33m=\u001b[0m \u001b[0mvalues\u001b[0m\u001b[1;33m.\u001b[0m\u001b[0mravel\u001b[0m\u001b[1;33m(\u001b[0m\u001b[1;33m)\u001b[0m\u001b[1;33m\u001b[0m\u001b[1;33m\u001b[0m\u001b[0m\n\u001b[0;32m    672\u001b[0m             \u001b[1;32mtry\u001b[0m\u001b[1;33m:\u001b[0m\u001b[1;33m\u001b[0m\u001b[1;33m\u001b[0m\u001b[0m\n\u001b[1;32m--> 673\u001b[1;33m                 \u001b[0mvalues\u001b[0m \u001b[1;33m=\u001b[0m \u001b[0mastype_nansafe\u001b[0m\u001b[1;33m(\u001b[0m\u001b[0mvals1d\u001b[0m\u001b[1;33m,\u001b[0m \u001b[0mdtype\u001b[0m\u001b[1;33m,\u001b[0m \u001b[0mcopy\u001b[0m\u001b[1;33m=\u001b[0m\u001b[1;32mTrue\u001b[0m\u001b[1;33m)\u001b[0m\u001b[1;33m\u001b[0m\u001b[1;33m\u001b[0m\u001b[0m\n\u001b[0m\u001b[0;32m    674\u001b[0m             \u001b[1;32mexcept\u001b[0m \u001b[1;33m(\u001b[0m\u001b[0mValueError\u001b[0m\u001b[1;33m,\u001b[0m \u001b[0mTypeError\u001b[0m\u001b[1;33m)\u001b[0m\u001b[1;33m:\u001b[0m\u001b[1;33m\u001b[0m\u001b[1;33m\u001b[0m\u001b[0m\n\u001b[0;32m    675\u001b[0m                 \u001b[1;31m# e.g. astype_nansafe can fail on object-dtype of strings\u001b[0m\u001b[1;33m\u001b[0m\u001b[1;33m\u001b[0m\u001b[1;33m\u001b[0m\u001b[0m\n",
      "\u001b[1;32m~\\Anaconda3\\lib\\site-packages\\pandas\\core\\dtypes\\cast.py\u001b[0m in \u001b[0;36mastype_nansafe\u001b[1;34m(arr, dtype, copy, skipna)\u001b[0m\n\u001b[0;32m   1095\u001b[0m     \u001b[1;32mif\u001b[0m \u001b[0mcopy\u001b[0m \u001b[1;32mor\u001b[0m \u001b[0mis_object_dtype\u001b[0m\u001b[1;33m(\u001b[0m\u001b[0marr\u001b[0m\u001b[1;33m)\u001b[0m \u001b[1;32mor\u001b[0m \u001b[0mis_object_dtype\u001b[0m\u001b[1;33m(\u001b[0m\u001b[0mdtype\u001b[0m\u001b[1;33m)\u001b[0m\u001b[1;33m:\u001b[0m\u001b[1;33m\u001b[0m\u001b[1;33m\u001b[0m\u001b[0m\n\u001b[0;32m   1096\u001b[0m         \u001b[1;31m# Explicit copy, or required since NumPy can't view from / to object.\u001b[0m\u001b[1;33m\u001b[0m\u001b[1;33m\u001b[0m\u001b[1;33m\u001b[0m\u001b[0m\n\u001b[1;32m-> 1097\u001b[1;33m         \u001b[1;32mreturn\u001b[0m \u001b[0marr\u001b[0m\u001b[1;33m.\u001b[0m\u001b[0mastype\u001b[0m\u001b[1;33m(\u001b[0m\u001b[0mdtype\u001b[0m\u001b[1;33m,\u001b[0m \u001b[0mcopy\u001b[0m\u001b[1;33m=\u001b[0m\u001b[1;32mTrue\u001b[0m\u001b[1;33m)\u001b[0m\u001b[1;33m\u001b[0m\u001b[1;33m\u001b[0m\u001b[0m\n\u001b[0m\u001b[0;32m   1098\u001b[0m \u001b[1;33m\u001b[0m\u001b[0m\n\u001b[0;32m   1099\u001b[0m     \u001b[1;32mreturn\u001b[0m \u001b[0marr\u001b[0m\u001b[1;33m.\u001b[0m\u001b[0mview\u001b[0m\u001b[1;33m(\u001b[0m\u001b[0mdtype\u001b[0m\u001b[1;33m)\u001b[0m\u001b[1;33m\u001b[0m\u001b[1;33m\u001b[0m\u001b[0m\n",
      "\u001b[1;31mValueError\u001b[0m: could not convert string to float: '-'"
     ]
    }
   ],
   "source": [
    "# 가격 데이터형 변환 object => float (but. 오류발생)\n",
    "stations[\"가격\"] = stations[\"가격\"].astype(\"float\")"
   ]
  },
  {
   "cell_type": "code",
   "execution_count": 101,
   "id": "c5d5b45f",
   "metadata": {
    "id": "c5d5b45f",
    "outputId": "170c917a-056c-418e-8b52-07537d6bdc88"
   },
   "outputs": [
    {
     "data": {
      "text/html": [
       "<div>\n",
       "<style scoped>\n",
       "    .dataframe tbody tr th:only-of-type {\n",
       "        vertical-align: middle;\n",
       "    }\n",
       "\n",
       "    .dataframe tbody tr th {\n",
       "        vertical-align: top;\n",
       "    }\n",
       "\n",
       "    .dataframe thead th {\n",
       "        text-align: right;\n",
       "    }\n",
       "</style>\n",
       "<table border=\"1\" class=\"dataframe\">\n",
       "  <thead>\n",
       "    <tr style=\"text-align: right;\">\n",
       "      <th></th>\n",
       "      <th>상호</th>\n",
       "      <th>주소</th>\n",
       "      <th>가격</th>\n",
       "      <th>셀프</th>\n",
       "      <th>상표</th>\n",
       "      <th>구</th>\n",
       "    </tr>\n",
       "  </thead>\n",
       "  <tbody>\n",
       "    <tr>\n",
       "      <th>537</th>\n",
       "      <td>SK네트윅스(주)한미주유소</td>\n",
       "      <td>서울 강동구 성내로 32 (성내동)</td>\n",
       "      <td>1678</td>\n",
       "      <td>N</td>\n",
       "      <td>SK에너지</td>\n",
       "      <td>강동구</td>\n",
       "    </tr>\n",
       "    <tr>\n",
       "      <th>538</th>\n",
       "      <td>명일주유소</td>\n",
       "      <td>서울 강동구 고덕로 168 (명일동)</td>\n",
       "      <td>1679</td>\n",
       "      <td>N</td>\n",
       "      <td>SK에너지</td>\n",
       "      <td>강동구</td>\n",
       "    </tr>\n",
       "    <tr>\n",
       "      <th>539</th>\n",
       "      <td>(주)삼표에너지 고덕주유소</td>\n",
       "      <td>서울 강동구 고덕로 39 (암사동)</td>\n",
       "      <td>1689</td>\n",
       "      <td>N</td>\n",
       "      <td>GS칼텍스</td>\n",
       "      <td>강동구</td>\n",
       "    </tr>\n",
       "    <tr>\n",
       "      <th>540</th>\n",
       "      <td>CJ대한통운(주)직영 천호점주유소</td>\n",
       "      <td>서울 강동구 천중로 67 (천호동)</td>\n",
       "      <td>1697</td>\n",
       "      <td>N</td>\n",
       "      <td>현대오일뱅크</td>\n",
       "      <td>강동구</td>\n",
       "    </tr>\n",
       "    <tr>\n",
       "      <th>541</th>\n",
       "      <td>강동주유소</td>\n",
       "      <td>서울 강동구 양재대로 1509 (길동)</td>\n",
       "      <td>1988</td>\n",
       "      <td>N</td>\n",
       "      <td>SK에너지</td>\n",
       "      <td>강동구</td>\n",
       "    </tr>\n",
       "  </tbody>\n",
       "</table>\n",
       "</div>"
      ],
      "text/plain": [
       "                     상호                     주소    가격 셀프      상표    구\n",
       "537      SK네트윅스(주)한미주유소    서울 강동구 성내로 32 (성내동)  1678  N   SK에너지  강동구\n",
       "538               명일주유소   서울 강동구 고덕로 168 (명일동)  1679  N   SK에너지  강동구\n",
       "539      (주)삼표에너지 고덕주유소    서울 강동구 고덕로 39 (암사동)  1689  N   GS칼텍스  강동구\n",
       "540  CJ대한통운(주)직영 천호점주유소    서울 강동구 천중로 67 (천호동)  1697  N  현대오일뱅크  강동구\n",
       "541               강동주유소  서울 강동구 양재대로 1509 (길동)  1988  N   SK에너지  강동구"
      ]
     },
     "execution_count": 101,
     "metadata": {},
     "output_type": "execute_result"
    }
   ],
   "source": [
    "# 마스킹을 사용하여 가격 정보가 있는 주유소만 사용 \n",
    "stations = stations[stations[\"가격\"] != \"-\"]\n",
    "stations.tail()"
   ]
  },
  {
   "cell_type": "code",
   "execution_count": 102,
   "id": "def2d584",
   "metadata": {
    "id": "def2d584",
    "outputId": "541b0f3a-0b47-40af-e2cf-b0c41486059e"
   },
   "outputs": [],
   "source": [
    "# 다시 가격 컬럼의 데이터형을 변환\n",
    "stations[\"가격\"] = stations[\"가격\"].astype(\"float\")"
   ]
  },
  {
   "cell_type": "code",
   "execution_count": 104,
   "id": "ac238436",
   "metadata": {
    "id": "ac238436",
    "outputId": "fd52901e-e54a-4c51-a583-dcad7e866431"
   },
   "outputs": [
    {
     "name": "stdout",
     "output_type": "stream",
     "text": [
      "<class 'pandas.core.frame.DataFrame'>\n",
      "Int64Index: 536 entries, 0 to 541\n",
      "Data columns (total 6 columns):\n",
      " #   Column  Non-Null Count  Dtype  \n",
      "---  ------  --------------  -----  \n",
      " 0   상호      536 non-null    object \n",
      " 1   주소      536 non-null    object \n",
      " 2   가격      536 non-null    float64\n",
      " 3   셀프      536 non-null    object \n",
      " 4   상표      536 non-null    object \n",
      " 5   구       536 non-null    object \n",
      "dtypes: float64(1), object(5)\n",
      "memory usage: 29.3+ KB\n"
     ]
    }
   ],
   "source": [
    "# 정상적으로 변경됐음을 확인\n",
    "stations.info()"
   ]
  },
  {
   "cell_type": "code",
   "execution_count": 105,
   "id": "1f413ef0",
   "metadata": {
    "id": "1f413ef0",
    "outputId": "24b3b3bb-c4bf-448d-c764-627003cd9865"
   },
   "outputs": [
    {
     "data": {
      "text/html": [
       "<div>\n",
       "<style scoped>\n",
       "    .dataframe tbody tr th:only-of-type {\n",
       "        vertical-align: middle;\n",
       "    }\n",
       "\n",
       "    .dataframe tbody tr th {\n",
       "        vertical-align: top;\n",
       "    }\n",
       "\n",
       "    .dataframe thead th {\n",
       "        text-align: right;\n",
       "    }\n",
       "</style>\n",
       "<table border=\"1\" class=\"dataframe\">\n",
       "  <thead>\n",
       "    <tr style=\"text-align: right;\">\n",
       "      <th></th>\n",
       "      <th>상호</th>\n",
       "      <th>주소</th>\n",
       "      <th>가격</th>\n",
       "      <th>셀프</th>\n",
       "      <th>상표</th>\n",
       "      <th>구</th>\n",
       "    </tr>\n",
       "  </thead>\n",
       "  <tbody>\n",
       "    <tr>\n",
       "      <th>531</th>\n",
       "      <td>SK네트윅스(주)한미주유소</td>\n",
       "      <td>서울 강동구 성내로 32 (성내동)</td>\n",
       "      <td>1678.0</td>\n",
       "      <td>N</td>\n",
       "      <td>SK에너지</td>\n",
       "      <td>강동구</td>\n",
       "    </tr>\n",
       "    <tr>\n",
       "      <th>532</th>\n",
       "      <td>명일주유소</td>\n",
       "      <td>서울 강동구 고덕로 168 (명일동)</td>\n",
       "      <td>1679.0</td>\n",
       "      <td>N</td>\n",
       "      <td>SK에너지</td>\n",
       "      <td>강동구</td>\n",
       "    </tr>\n",
       "    <tr>\n",
       "      <th>533</th>\n",
       "      <td>(주)삼표에너지 고덕주유소</td>\n",
       "      <td>서울 강동구 고덕로 39 (암사동)</td>\n",
       "      <td>1689.0</td>\n",
       "      <td>N</td>\n",
       "      <td>GS칼텍스</td>\n",
       "      <td>강동구</td>\n",
       "    </tr>\n",
       "    <tr>\n",
       "      <th>534</th>\n",
       "      <td>CJ대한통운(주)직영 천호점주유소</td>\n",
       "      <td>서울 강동구 천중로 67 (천호동)</td>\n",
       "      <td>1697.0</td>\n",
       "      <td>N</td>\n",
       "      <td>현대오일뱅크</td>\n",
       "      <td>강동구</td>\n",
       "    </tr>\n",
       "    <tr>\n",
       "      <th>535</th>\n",
       "      <td>강동주유소</td>\n",
       "      <td>서울 강동구 양재대로 1509 (길동)</td>\n",
       "      <td>1988.0</td>\n",
       "      <td>N</td>\n",
       "      <td>SK에너지</td>\n",
       "      <td>강동구</td>\n",
       "    </tr>\n",
       "  </tbody>\n",
       "</table>\n",
       "</div>"
      ],
      "text/plain": [
       "                     상호                     주소      가격 셀프      상표    구\n",
       "531      SK네트윅스(주)한미주유소    서울 강동구 성내로 32 (성내동)  1678.0  N   SK에너지  강동구\n",
       "532               명일주유소   서울 강동구 고덕로 168 (명일동)  1679.0  N   SK에너지  강동구\n",
       "533      (주)삼표에너지 고덕주유소    서울 강동구 고덕로 39 (암사동)  1689.0  N   GS칼텍스  강동구\n",
       "534  CJ대한통운(주)직영 천호점주유소    서울 강동구 천중로 67 (천호동)  1697.0  N  현대오일뱅크  강동구\n",
       "535               강동주유소  서울 강동구 양재대로 1509 (길동)  1988.0  N   SK에너지  강동구"
      ]
     },
     "execution_count": 105,
     "metadata": {},
     "output_type": "execute_result"
    }
   ],
   "source": [
    "# 마스킹으로 뒤죽박죽된 인덱스를 재정렬 \n",
    "stations.reset_index(drop=True, inplace=True)\n",
    "stations.tail()"
   ]
  },
  {
   "cell_type": "markdown",
   "id": "d743da48",
   "metadata": {},
   "source": [
    "---"
   ]
  },
  {
   "cell_type": "markdown",
   "id": "7c066847",
   "metadata": {
    "id": "7c066847"
   },
   "source": [
    "## 3. 데이터 시각화"
   ]
  },
  {
   "cell_type": "code",
   "execution_count": 111,
   "id": "53bd3b50",
   "metadata": {
    "id": "53bd3b50"
   },
   "outputs": [
    {
     "name": "stdout",
     "output_type": "stream",
     "text": [
      "Hangul OK in your Windows !!!\n"
     ]
    }
   ],
   "source": [
    "# 필요한 모듈 불러오기\n",
    "import matplotlib.pyplot as plt \n",
    "import seaborn as sns \n",
    "import platform\n",
    "from matplotlib import font_manager, rc \n",
    "\n",
    "%matplotlib inline\n",
    "\n",
    "path = \"c:/Windows/Fonts/malgun.ttf\"\n",
    "\n",
    "if platform.system() == \"Darwin\":\n",
    "    print(\"Hangul OK in your MAC !!!\")\n",
    "    rc(\"font\", family=\"AppleGothic\")\n",
    "elif platform.system() == \"Windows\":\n",
    "    font_name = font_manager.FontProperties(fname=path).get_name()\n",
    "    print(\"Hangul OK in your Windows !!!\")\n",
    "    rc(\"font\", family=font_name)\n",
    "else:\n",
    "    print(\"Unknown system... sorry~~~~\")\n",
    "\n",
    "plt.rcParams[\"axes.unicode_minus\"] = False"
   ]
  },
  {
   "cell_type": "code",
   "execution_count": 112,
   "id": "d9a0c832",
   "metadata": {
    "id": "d9a0c832",
    "outputId": "92465b6e-e54f-4647-ac31-6581831ab010"
   },
   "outputs": [
    {
     "data": {
      "image/png": "[encoded data removed]",
      "text/plain": [
       "<Figure size 864x576 with 1 Axes>"
      ]
     },
     "metadata": {
      "needs_background": "light"
     },
     "output_type": "display_data"
    }
   ],
   "source": [
    "# matplotlib으로 boxplot을 그려본다\n",
    "stations.boxplot(column=\"가격\", by=\"셀프\", figsize=(12, 8));"
   ]
  },
  {
   "cell_type": "code",
   "execution_count": 113,
   "id": "696335a1",
   "metadata": {
    "id": "696335a1",
    "outputId": "5ca69065-f021-407f-afdf-220e6244d152"
   },
   "outputs": [
    {
     "data": {
      "image/png": "[encoded data removed]",
      "text/plain": [
       "<Figure size 864x576 with 1 Axes>"
      ]
     },
     "metadata": {
      "needs_background": "light"
     },
     "output_type": "display_data"
    }
   ],
   "source": [
    "# seaborn으로 boxplot을 그려본다 ('셀프주유소인지 아닌지'를 기준으로)\n",
    "\n",
    "plt.figure(figsize=(12, 8))\n",
    "sns.boxplot(x=\"셀프\", y=\"가격\", data=stations, palette=\"Set1\")\n",
    "plt.grid(True)\n",
    "plt.show()"
   ]
  },
  {
   "cell_type": "code",
   "execution_count": 114,
   "id": "a7ce1a8b",
   "metadata": {
    "id": "a7ce1a8b",
    "outputId": "93f387c7-17de-4789-cdfc-2c76ef92ea5a"
   },
   "outputs": [
    {
     "data": {
      "image/png": "[encoded data removed]",
      "text/plain": [
       "<Figure size 864x576 with 1 Axes>"
      ]
     },
     "metadata": {
      "needs_background": "light"
     },
     "output_type": "display_data"
    }
   ],
   "source": [
    "# seaborn으로 boxplot을 그려본다 ('상표'기준으로)\n",
    "# hue로 카테고리 데이터를 표현\n",
    "\n",
    "plt.figure(figsize=(12, 8))\n",
    "sns.boxplot(x=\"상표\", y=\"가격\", hue=\"셀프\", data=stations, palette=\"Set3\")\n",
    "plt.grid(True)\n",
    "plt.show()"
   ]
  },
  {
   "cell_type": "code",
   "execution_count": null,
   "id": "c7109756",
   "metadata": {
    "id": "c7109756"
   },
   "outputs": [],
   "source": [
    "# 지도 시각화 "
   ]
  },
  {
   "cell_type": "code",
   "execution_count": 117,
   "id": "757c5b1f",
   "metadata": {
    "id": "757c5b1f"
   },
   "outputs": [],
   "source": [
    "import json \n",
    "import folium\n",
    "import warnings\n",
    "warnings.simplefilter(action=\"ignore\", category=FutureWarning)"
   ]
  },
  {
   "cell_type": "code",
   "execution_count": 118,
   "id": "d64d70e0",
   "metadata": {
    "id": "d64d70e0",
    "outputId": "21e2c08e-b932-40e9-8e1e-08484f23ad51"
   },
   "outputs": [
    {
     "data": {
      "text/html": [
       "<div>\n",
       "<style scoped>\n",
       "    .dataframe tbody tr th:only-of-type {\n",
       "        vertical-align: middle;\n",
       "    }\n",
       "\n",
       "    .dataframe tbody tr th {\n",
       "        vertical-align: top;\n",
       "    }\n",
       "\n",
       "    .dataframe thead th {\n",
       "        text-align: right;\n",
       "    }\n",
       "</style>\n",
       "<table border=\"1\" class=\"dataframe\">\n",
       "  <thead>\n",
       "    <tr style=\"text-align: right;\">\n",
       "      <th></th>\n",
       "      <th>상호</th>\n",
       "      <th>주소</th>\n",
       "      <th>가격</th>\n",
       "      <th>셀프</th>\n",
       "      <th>상표</th>\n",
       "      <th>구</th>\n",
       "    </tr>\n",
       "  </thead>\n",
       "  <tbody>\n",
       "    <tr>\n",
       "      <th>411</th>\n",
       "      <td>뉴서울(강남)</td>\n",
       "      <td>서울 강남구 언주로 716 (논현동)</td>\n",
       "      <td>2160.0</td>\n",
       "      <td>N</td>\n",
       "      <td>SK에너지</td>\n",
       "      <td>강남구</td>\n",
       "    </tr>\n",
       "    <tr>\n",
       "      <th>336</th>\n",
       "      <td>장충주유소</td>\n",
       "      <td>서울 중구 장충단로 202 (장충동1가)</td>\n",
       "      <td>2147.0</td>\n",
       "      <td>N</td>\n",
       "      <td>SK에너지</td>\n",
       "      <td>중구</td>\n",
       "    </tr>\n",
       "    <tr>\n",
       "      <th>115</th>\n",
       "      <td>양재주유소</td>\n",
       "      <td>서울 서초구 바우뫼로 178 (양재동)</td>\n",
       "      <td>2145.0</td>\n",
       "      <td>N</td>\n",
       "      <td>SK에너지</td>\n",
       "      <td>서초구</td>\n",
       "    </tr>\n",
       "    <tr>\n",
       "      <th>335</th>\n",
       "      <td>서남주유소</td>\n",
       "      <td>서울 중구 통일로 30 (봉래동1가)</td>\n",
       "      <td>2143.0</td>\n",
       "      <td>N</td>\n",
       "      <td>SK에너지</td>\n",
       "      <td>중구</td>\n",
       "    </tr>\n",
       "    <tr>\n",
       "      <th>410</th>\n",
       "      <td>오천주유소</td>\n",
       "      <td>서울 강남구 봉은사로 503 (삼성동)</td>\n",
       "      <td>2137.0</td>\n",
       "      <td>N</td>\n",
       "      <td>SK에너지</td>\n",
       "      <td>강남구</td>\n",
       "    </tr>\n",
       "  </tbody>\n",
       "</table>\n",
       "</div>"
      ],
      "text/plain": [
       "          상호                      주소      가격 셀프     상표    구\n",
       "411  뉴서울(강남)    서울 강남구 언주로 716 (논현동)  2160.0  N  SK에너지  강남구\n",
       "336    장충주유소  서울 중구 장충단로 202 (장충동1가)  2147.0  N  SK에너지   중구\n",
       "115    양재주유소   서울 서초구 바우뫼로 178 (양재동)  2145.0  N  SK에너지  서초구\n",
       "335    서남주유소    서울 중구 통일로 30 (봉래동1가)  2143.0  N  SK에너지   중구\n",
       "410    오천주유소   서울 강남구 봉은사로 503 (삼성동)  2137.0  N  SK에너지  강남구"
      ]
     },
     "execution_count": 118,
     "metadata": {},
     "output_type": "execute_result"
    }
   ],
   "source": [
    "# 가장 비싼 주유소 10개 \n",
    "stations.sort_values(by=\"가격\", ascending=False).head()"
   ]
  },
  {
   "cell_type": "code",
   "execution_count": 120,
   "id": "0619320c",
   "metadata": {
    "id": "0619320c",
    "outputId": "2119fae3-b184-48f8-9e73-a400c40ef7b7"
   },
   "outputs": [
    {
     "data": {
      "text/html": [
       "<div>\n",
       "<style scoped>\n",
       "    .dataframe tbody tr th:only-of-type {\n",
       "        vertical-align: middle;\n",
       "    }\n",
       "\n",
       "    .dataframe tbody tr th {\n",
       "        vertical-align: top;\n",
       "    }\n",
       "\n",
       "    .dataframe thead th {\n",
       "        text-align: right;\n",
       "    }\n",
       "</style>\n",
       "<table border=\"1\" class=\"dataframe\">\n",
       "  <thead>\n",
       "    <tr style=\"text-align: right;\">\n",
       "      <th></th>\n",
       "      <th>상호</th>\n",
       "      <th>주소</th>\n",
       "      <th>가격</th>\n",
       "      <th>셀프</th>\n",
       "      <th>상표</th>\n",
       "      <th>구</th>\n",
       "    </tr>\n",
       "  </thead>\n",
       "  <tbody>\n",
       "    <tr>\n",
       "      <th>297</th>\n",
       "      <td>타이거주유소</td>\n",
       "      <td>서울 은평구 수색로 188 (증산동)</td>\n",
       "      <td>1484.0</td>\n",
       "      <td>N</td>\n",
       "      <td>SK에너지</td>\n",
       "      <td>은평구</td>\n",
       "    </tr>\n",
       "    <tr>\n",
       "      <th>298</th>\n",
       "      <td>(주)명연에너지 수색훼미리주유소</td>\n",
       "      <td>서울 은평구 수색로 236 (수색동)</td>\n",
       "      <td>1485.0</td>\n",
       "      <td>Y</td>\n",
       "      <td>현대오일뱅크</td>\n",
       "      <td>은평구</td>\n",
       "    </tr>\n",
       "    <tr>\n",
       "      <th>217</th>\n",
       "      <td>(주)MS주유소</td>\n",
       "      <td>서울특별시 영등포구 대림로 230 (대림동)</td>\n",
       "      <td>1498.0</td>\n",
       "      <td>N</td>\n",
       "      <td>현대오일뱅크</td>\n",
       "      <td>영등포구</td>\n",
       "    </tr>\n",
       "    <tr>\n",
       "      <th>219</th>\n",
       "      <td>(주)대청에너지 대청주유소</td>\n",
       "      <td>서울 영등포구 가마산로 328 (대림동)</td>\n",
       "      <td>1498.0</td>\n",
       "      <td>N</td>\n",
       "      <td>GS칼텍스</td>\n",
       "      <td>영등포구</td>\n",
       "    </tr>\n",
       "    <tr>\n",
       "      <th>216</th>\n",
       "      <td>성락주유소</td>\n",
       "      <td>서울 영등포구 가마산로 414 (신길동)</td>\n",
       "      <td>1498.0</td>\n",
       "      <td>Y</td>\n",
       "      <td>S-OIL</td>\n",
       "      <td>영등포구</td>\n",
       "    </tr>\n",
       "  </tbody>\n",
       "</table>\n",
       "</div>"
      ],
      "text/plain": [
       "                    상호                         주소      가격 셀프      상표     구\n",
       "297             타이거주유소       서울 은평구 수색로 188 (증산동)  1484.0  N   SK에너지   은평구\n",
       "298  (주)명연에너지 수색훼미리주유소       서울 은평구 수색로 236 (수색동)  1485.0  Y  현대오일뱅크   은평구\n",
       "217           (주)MS주유소   서울특별시 영등포구 대림로 230 (대림동)  1498.0  N  현대오일뱅크  영등포구\n",
       "219     (주)대청에너지 대청주유소     서울 영등포구 가마산로 328 (대림동)  1498.0  N   GS칼텍스  영등포구\n",
       "216              성락주유소     서울 영등포구 가마산로 414 (신길동)  1498.0  Y   S-OIL  영등포구"
      ]
     },
     "execution_count": 120,
     "metadata": {},
     "output_type": "execute_result"
    }
   ],
   "source": [
    "# 가장 값싼 주유소 10개 \n",
    "stations.sort_values(by=\"가격\", ascending=True).head(5)"
   ]
  },
  {
   "cell_type": "code",
   "execution_count": 121,
   "id": "8f913e68",
   "metadata": {
    "id": "8f913e68",
    "outputId": "2d25d5d7-be7a-49f2-d97c-124ada604c3f"
   },
   "outputs": [
    {
     "data": {
      "text/html": [
       "<div>\n",
       "<style scoped>\n",
       "    .dataframe tbody tr th:only-of-type {\n",
       "        vertical-align: middle;\n",
       "    }\n",
       "\n",
       "    .dataframe tbody tr th {\n",
       "        vertical-align: top;\n",
       "    }\n",
       "\n",
       "    .dataframe thead th {\n",
       "        text-align: right;\n",
       "    }\n",
       "</style>\n",
       "<table border=\"1\" class=\"dataframe\">\n",
       "  <thead>\n",
       "    <tr style=\"text-align: right;\">\n",
       "      <th></th>\n",
       "      <th>가격</th>\n",
       "    </tr>\n",
       "    <tr>\n",
       "      <th>구</th>\n",
       "      <th></th>\n",
       "    </tr>\n",
       "  </thead>\n",
       "  <tbody>\n",
       "    <tr>\n",
       "      <th>강남구</th>\n",
       "      <td>1804.325581</td>\n",
       "    </tr>\n",
       "    <tr>\n",
       "      <th>강동구</th>\n",
       "      <td>1633.166667</td>\n",
       "    </tr>\n",
       "    <tr>\n",
       "      <th>강북구</th>\n",
       "      <td>1528.583333</td>\n",
       "    </tr>\n",
       "    <tr>\n",
       "      <th>강서구</th>\n",
       "      <td>1580.205882</td>\n",
       "    </tr>\n",
       "    <tr>\n",
       "      <th>관악구</th>\n",
       "      <td>1599.411765</td>\n",
       "    </tr>\n",
       "  </tbody>\n",
       "</table>\n",
       "</div>"
      ],
      "text/plain": [
       "              가격\n",
       "구               \n",
       "강남구  1804.325581\n",
       "강동구  1633.166667\n",
       "강북구  1528.583333\n",
       "강서구  1580.205882\n",
       "관악구  1599.411765"
      ]
     },
     "execution_count": 121,
     "metadata": {},
     "output_type": "execute_result"
    }
   ],
   "source": [
    "# 피봇테이블을 활용하여 구별 가격의 평균을 구한다\n",
    "\n",
    "import numpy as np \n",
    "\n",
    "gu_data = pd.pivot_table(data=stations, index=\"구\", values=\"가격\", aggfunc=np.mean)\n",
    "gu_data.head()"
   ]
  },
  {
   "cell_type": "code",
   "execution_count": 123,
   "id": "7a57503b",
   "metadata": {
    "id": "7a57503b",
    "outputId": "6a33269d-6028-4619-92d2-ae707cf3e17c"
   },
   "outputs": [
    {
     "data": {
      "text/html": [
       "<div style=\"width:100%;\"><div style=\"position:relative;width:100%;height:0;padding-bottom:60%;\"><span style=\"color:#565656\">Make this Notebook Trusted to load map: File -> Trust Notebook</span><iframe srcdoc=\"&lt;!DOCTYPE html&gt;\n",
       "&lt;head&gt;    \n",
       "    &lt;meta http-equiv=&quot;content-type&quot; content=&quot;text/html; charset=UTF-8&quot; /&gt;\n",
       "    \n",
       "        &lt;script&gt;\n",
       "            L_NO_TOUCH = false;\n",
       "            L_DISABLE_3D = false;\n",
       "        &lt;/script&gt;\n",
       "    \n",
       "    &lt;style&gt;html, body {width: 100%;height: 100%;margin: 0;padding: 0;}&lt;/style&gt;\n",
       "    &lt;style&gt;#map {position:absolute;top:0;bottom:0;right:0;left:0;}&lt;/style&gt;\n",
       "    &lt;script src=&quot;https://cdn.jsdelivr.net/npm/leaflet@1.6.0/dist/leaflet.js&quot;&gt;&lt;/script&gt;\n",
       "    &lt;script src=&quot;https://code.jquery.com/jquery-1.12.4.min.js&quot;&gt;&lt;/script&gt;\n",
       "    &lt;script src=&quot;https://maxcdn.bootstrapcdn.com/bootstrap/3.2.0/js/bootstrap.min.js&quot;&gt;&lt;/script&gt;\n",
       "    &lt;script src=&quot;https://cdnjs.cloudflare.com/ajax/libs/Leaflet.awesome-markers/2.0.2/leaflet.awesome-markers.js&quot;&gt;&lt;/script&gt;\n",
       "    &lt;link rel=&quot;stylesheet&quot; href=&quot;https://cdn.jsdelivr.net/npm/leaflet@1.6.0/dist/leaflet.css&quot;/&gt;\n",
       "    &lt;link rel=&quot;stylesheet&quot; href=&quot;https://maxcdn.bootstrapcdn.com/bootstrap/3.2.0/css/bootstrap.min.css&quot;/&gt;\n",
       "    &lt;link rel=&quot;stylesheet&quot; href=&quot;https://maxcdn.bootstrapcdn.com/bootstrap/3.2.0/css/bootstrap-theme.min.css&quot;/&gt;\n",
       "    &lt;link rel=&quot;stylesheet&quot; href=&quot;https://maxcdn.bootstrapcdn.com/font-awesome/4.6.3/css/font-awesome.min.css&quot;/&gt;\n",
       "    &lt;link rel=&quot;stylesheet&quot; href=&quot;https://cdnjs.cloudflare.com/ajax/libs/Leaflet.awesome-markers/2.0.2/leaflet.awesome-markers.css&quot;/&gt;\n",
       "    &lt;link rel=&quot;stylesheet&quot; href=&quot;https://cdn.jsdelivr.net/gh/python-visualization/folium/folium/templates/leaflet.awesome.rotate.min.css&quot;/&gt;\n",
       "    \n",
       "            &lt;meta name=&quot;viewport&quot; content=&quot;width=device-width,\n",
       "                initial-scale=1.0, maximum-scale=1.0, user-scalable=no&quot; /&gt;\n",
       "            &lt;style&gt;\n",
       "                #map_b5555ef22d240753843dea69048a776f {\n",
       "                    position: relative;\n",
       "                    width: 100.0%;\n",
       "                    height: 100.0%;\n",
       "                    left: 0.0%;\n",
       "                    top: 0.0%;\n",
       "                }\n",
       "            &lt;/style&gt;\n",
       "        \n",
       "    &lt;script src=&quot;https://cdnjs.cloudflare.com/ajax/libs/d3/3.5.5/d3.min.js&quot;&gt;&lt;/script&gt;\n",
       "&lt;/head&gt;\n",
       "&lt;body&gt;    \n",
       "    \n",
       "            &lt;div class=&quot;folium-map&quot; id=&quot;map_b5555ef22d240753843dea69048a776f&quot; &gt;&lt;/div&gt;\n",
       "        \n",
       "&lt;/body&gt;\n",
       "&lt;script&gt;    \n",
       "    \n",
       "            var map_b5555ef22d240753843dea69048a776f = L.map(\n",
       "                &quot;map_b5555ef22d240753843dea69048a776f&quot;,\n",
       "                {\n",
       "                    center: [37.5502, 126.982],\n",
       "                    crs: L.CRS.EPSG3857,\n",
       "                    zoom: 10.5,\n",
       "                    zoomControl: true,\n",
       "                    preferCanvas: false,\n",
       "                }\n",
       "            );\n",
       "\n",
       "            \n",
       "\n",
       "        \n",
       "    \n",
       "            var tile_layer_fb159a222354a21fb208fdfbdf822c98 = L.tileLayer(\n",
       "                &quot;https://stamen-tiles-{s}.a.ssl.fastly.net/toner/{z}/{x}/{y}.png&quot;,\n",
       "                {&quot;attribution&quot;: &quot;Map tiles by \\u003ca href=\\&quot;http://stamen.com\\&quot;\\u003eStamen Design\\u003c/a\\u003e, under \\u003ca href=\\&quot;http://creativecommons.org/licenses/by/3.0\\&quot;\\u003eCC BY 3.0\\u003c/a\\u003e. Data by \\u0026copy; \\u003ca href=\\&quot;http://openstreetmap.org\\&quot;\\u003eOpenStreetMap\\u003c/a\\u003e, under \\u003ca href=\\&quot;http://www.openstreetmap.org/copyright\\&quot;\\u003eODbL\\u003c/a\\u003e.&quot;, &quot;detectRetina&quot;: false, &quot;maxNativeZoom&quot;: 18, &quot;maxZoom&quot;: 18, &quot;minZoom&quot;: 0, &quot;noWrap&quot;: false, &quot;opacity&quot;: 1, &quot;subdomains&quot;: &quot;abc&quot;, &quot;tms&quot;: false}\n",
       "            ).addTo(map_b5555ef22d240753843dea69048a776f);\n",
       "        \n",
       "    \n",
       "            var choropleth_c82664ee49d477458ff254bce35ece92 = L.featureGroup(\n",
       "                {}\n",
       "            ).addTo(map_b5555ef22d240753843dea69048a776f);\n",
       "        \n",
       "    \n",
       "        function geo_json_31259f3dfc23f9acd869659b0edc9d31_styler(feature) {\n",
       "            switch(feature.id) {\n",
       "                case &quot;\\uac15\\ub3d9\\uad6c&quot;: case &quot;\\uc1a1\\ud30c\\uad6c&quot;: case &quot;\\uc11c\\ucd08\\uad6c&quot;: case &quot;\\uc601\\ub4f1\\ud3ec\\uad6c&quot;: case &quot;\\ub178\\uc6d0\\uad6c&quot;: case &quot;\\uc131\\ub3d9\\uad6c&quot;: \n",
       "                    return {&quot;color&quot;: &quot;black&quot;, &quot;fillColor&quot;: &quot;#d4b9da&quot;, &quot;fillOpacity&quot;: 0.6, &quot;opacity&quot;: 1, &quot;weight&quot;: 1};\n",
       "                case &quot;\\uac15\\ub0a8\\uad6c&quot;: \n",
       "                    return {&quot;color&quot;: &quot;black&quot;, &quot;fillColor&quot;: &quot;#df65b0&quot;, &quot;fillOpacity&quot;: 0.6, &quot;opacity&quot;: 1, &quot;weight&quot;: 1};\n",
       "                case &quot;\\ub9c8\\ud3ec\\uad6c&quot;: \n",
       "                    return {&quot;color&quot;: &quot;black&quot;, &quot;fillColor&quot;: &quot;#c994c7&quot;, &quot;fillOpacity&quot;: 0.6, &quot;opacity&quot;: 1, &quot;weight&quot;: 1};\n",
       "                case &quot;\\uc6a9\\uc0b0\\uad6c&quot;: case &quot;\\uc911\\uad6c&quot;: case &quot;\\uc885\\ub85c\\uad6c&quot;: \n",
       "                    return {&quot;color&quot;: &quot;black&quot;, &quot;fillColor&quot;: &quot;#980043&quot;, &quot;fillOpacity&quot;: 0.6, &quot;opacity&quot;: 1, &quot;weight&quot;: 1};\n",
       "                default:\n",
       "                    return {&quot;color&quot;: &quot;black&quot;, &quot;fillColor&quot;: &quot;#f1eef6&quot;, &quot;fillOpacity&quot;: 0.6, &quot;opacity&quot;: 1, &quot;weight&quot;: 1};\n",
       "            }\n",
       "        }\n",
       "\n",
       "        function geo_json_31259f3dfc23f9acd869659b0edc9d31_onEachFeature(feature, layer) {\n",
       "            layer.on({\n",
       "            });\n",
       "        };\n",
       "        var geo_json_31259f3dfc23f9acd869659b0edc9d31 = L.geoJson(null, {\n",
       "                onEachFeature: geo_json_31259f3dfc23f9acd869659b0edc9d31_onEachFeature,\n",
       "            \n",
       "                style: geo_json_31259f3dfc23f9acd869659b0edc9d31_styler,\n",
       "        });\n",
       "\n",
       "        function geo_json_31259f3dfc23f9acd869659b0edc9d31_add (data) {\n",
       "            geo_json_31259f3dfc23f9acd869659b0edc9d31\n",
       "                .addData(data)\n",
       "                .addTo(choropleth_c82664ee49d477458ff254bce35ece92);\n",
       "        }\n",
       "            geo_json_31259f3dfc23f9acd869659b0edc9d31_add({&quot;features&quot;: [{&quot;geometry&quot;: {&quot;coordinates&quot;: [[[127.11519584981606, 37.557533180704915], [127.16683184366129, 37.57672487388627], [127.18408792330152, 37.55814280369575], [127.16530984307447, 37.54221851258693], [127.14672806823502, 37.51415680680291], [127.12123165719615, 37.52528270089], [127.1116764203608, 37.540669955324965], [127.11519584981606, 37.557533180704915]]], &quot;type&quot;: &quot;Polygon&quot;}, &quot;id&quot;: &quot;\\uac15\\ub3d9\\uad6c&quot;, &quot;properties&quot;: {&quot;base_year&quot;: &quot;2013&quot;, &quot;code&quot;: &quot;11250&quot;, &quot;name&quot;: &quot;\\uac15\\ub3d9\\uad6c&quot;, &quot;name_eng&quot;: &quot;Gangdong-gu&quot;}, &quot;type&quot;: &quot;Feature&quot;}, {&quot;geometry&quot;: {&quot;coordinates&quot;: [[[127.0690698130372, 37.522279423505026], [127.10087519791962, 37.524841220167055], [127.1116764203608, 37.540669955324965], [127.12123165719615, 37.52528270089], [127.14672806823502, 37.51415680680291], [127.1634944215765, 37.497445406097484], [127.14206058413274, 37.47089819098501], [127.12440571080893, 37.46240445587048], [127.11117085201238, 37.485708381512445], [127.0719146000724, 37.50224013587669], [127.0690698130372, 37.522279423505026]]], &quot;type&quot;: &quot;Polygon&quot;}, &quot;id&quot;: &quot;\\uc1a1\\ud30c\\uad6c&quot;, &quot;properties&quot;: {&quot;base_year&quot;: &quot;2013&quot;, &quot;code&quot;: &quot;11240&quot;, &quot;name&quot;: &quot;\\uc1a1\\ud30c\\uad6c&quot;, &quot;name_eng&quot;: &quot;Songpa-gu&quot;}, &quot;type&quot;: &quot;Feature&quot;}, {&quot;geometry&quot;: {&quot;coordinates&quot;: [[[127.05867359288398, 37.52629974922568], [127.0690698130372, 37.522279423505026], [127.0719146000724, 37.50224013587669], [127.11117085201238, 37.485708381512445], [127.12440571080893, 37.46240445587048], [127.09842759318751, 37.45862253857461], [127.08640440578156, 37.472697935184655], [127.0559170481904, 37.4659228914077], [127.03621915098798, 37.48175802427603], [127.01397119667513, 37.52503988289669], [127.02302831890559, 37.53231899582663], [127.05867359288398, 37.52629974922568]]], &quot;type&quot;: &quot;Polygon&quot;}, &quot;id&quot;: &quot;\\uac15\\ub0a8\\uad6c&quot;, &quot;properties&quot;: {&quot;base_year&quot;: &quot;2013&quot;, &quot;code&quot;: &quot;11230&quot;, &quot;name&quot;: &quot;\\uac15\\ub0a8\\uad6c&quot;, &quot;name_eng&quot;: &quot;Gangnam-gu&quot;}, &quot;type&quot;: &quot;Feature&quot;}, {&quot;geometry&quot;: {&quot;coordinates&quot;: [[[127.01397119667513, 37.52503988289669], [127.03621915098798, 37.48175802427603], [127.0559170481904, 37.4659228914077], [127.08640440578156, 37.472697935184655], [127.09842759318751, 37.45862253857461], [127.09046928565951, 37.44296826114185], [127.06778107605433, 37.426197424057314], [127.04957232987142, 37.42805836845694], [127.03881782597922, 37.45382039851715], [126.99072073195462, 37.455326143310025], [126.98367668291802, 37.473856492692086], [126.98223807916081, 37.509314966770326], [127.01397119667513, 37.52503988289669]]], &quot;type&quot;: &quot;Polygon&quot;}, &quot;id&quot;: &quot;\\uc11c\\ucd08\\uad6c&quot;, &quot;properties&quot;: {&quot;base_year&quot;: &quot;2013&quot;, &quot;code&quot;: &quot;11220&quot;, &quot;name&quot;: &quot;\\uc11c\\ucd08\\uad6c&quot;, &quot;name_eng&quot;: &quot;Seocho-gu&quot;}, &quot;type&quot;: &quot;Feature&quot;}, {&quot;geometry&quot;: {&quot;coordinates&quot;: [[[126.98367668291802, 37.473856492692086], [126.99072073195462, 37.455326143310025], [126.96520439085143, 37.438249784006246], [126.95000001010182, 37.43613451165719], [126.93084408056525, 37.447382928333994], [126.9167728146601, 37.45490566423789], [126.90156094129895, 37.47753842789901], [126.90531975801812, 37.48218087575429], [126.94922661389508, 37.49125437495649], [126.9725891850662, 37.472561363278125], [126.98367668291802, 37.473856492692086]]], &quot;type&quot;: &quot;Polygon&quot;}, &quot;id&quot;: &quot;\\uad00\\uc545\\uad6c&quot;, &quot;properties&quot;: {&quot;base_year&quot;: &quot;2013&quot;, &quot;code&quot;: &quot;11210&quot;, &quot;name&quot;: &quot;\\uad00\\uc545\\uad6c&quot;, &quot;name_eng&quot;: &quot;Gwanak-gu&quot;}, &quot;type&quot;: &quot;Feature&quot;}, {&quot;geometry&quot;: {&quot;coordinates&quot;: [[[126.98223807916081, 37.509314966770326], [126.98367668291802, 37.473856492692086], [126.9725891850662, 37.472561363278125], [126.94922661389508, 37.49125437495649], [126.90531975801812, 37.48218087575429], [126.92177893174825, 37.494889877415176], [126.92810628828279, 37.51329595732015], [126.95249990298159, 37.51722500741813], [126.98223807916081, 37.509314966770326]]], &quot;type&quot;: &quot;Polygon&quot;}, &quot;id&quot;: &quot;\\ub3d9\\uc791\\uad6c&quot;, &quot;properties&quot;: {&quot;base_year&quot;: &quot;2013&quot;, &quot;code&quot;: &quot;11200&quot;, &quot;name&quot;: &quot;\\ub3d9\\uc791\\uad6c&quot;, &quot;name_eng&quot;: &quot;Dongjak-gu&quot;}, &quot;type&quot;: &quot;Feature&quot;}, {&quot;geometry&quot;: {&quot;coordinates&quot;: [[[126.89184663862764, 37.547373974997114], [126.94566733083212, 37.526617542453366], [126.95249990298159, 37.51722500741813], [126.92810628828279, 37.51329595732015], [126.92177893174825, 37.494889877415176], [126.90531975801812, 37.48218087575429], [126.89594776782485, 37.504675281309176], [126.88156402353862, 37.513970034765684], [126.88825757860099, 37.54079733630232], [126.89184663862764, 37.547373974997114]]], &quot;type&quot;: &quot;Polygon&quot;}, &quot;id&quot;: &quot;\\uc601\\ub4f1\\ud3ec\\uad6c&quot;, &quot;properties&quot;: {&quot;base_year&quot;: &quot;2013&quot;, &quot;code&quot;: &quot;11190&quot;, &quot;name&quot;: &quot;\\uc601\\ub4f1\\ud3ec\\uad6c&quot;, &quot;name_eng&quot;: &quot;Yeongdeungpo-gu&quot;}, &quot;type&quot;: &quot;Feature&quot;}, {&quot;geometry&quot;: {&quot;coordinates&quot;: [[[126.90156094129895, 37.47753842789901], [126.9167728146601, 37.45490566423789], [126.93084408056525, 37.447382928333994], [126.9025831711697, 37.434549366349124], [126.87683271502428, 37.482576591607305], [126.90156094129895, 37.47753842789901]]], &quot;type&quot;: &quot;Polygon&quot;}, &quot;id&quot;: &quot;\\uae08\\ucc9c\\uad6c&quot;, &quot;properties&quot;: {&quot;base_year&quot;: &quot;2013&quot;, &quot;code&quot;: &quot;11180&quot;, &quot;name&quot;: &quot;\\uae08\\ucc9c\\uad6c&quot;, &quot;name_eng&quot;: &quot;Geumcheon-gu&quot;}, &quot;type&quot;: &quot;Feature&quot;}, {&quot;geometry&quot;: {&quot;coordinates&quot;: [[[126.82688081517314, 37.50548972232896], [126.88156402353862, 37.513970034765684], [126.89594776782485, 37.504675281309176], [126.90531975801812, 37.48218087575429], [126.90156094129895, 37.47753842789901], [126.87683271502428, 37.482576591607305], [126.84762676054953, 37.47146723936323], [126.83549485076196, 37.474098236975095], [126.82264796791348, 37.4878476492147], [126.82504736331406, 37.50302612640443], [126.82688081517314, 37.50548972232896]]], &quot;type&quot;: &quot;Polygon&quot;}, &quot;id&quot;: &quot;\\uad6c\\ub85c\\uad6c&quot;, &quot;properties&quot;: {&quot;base_year&quot;: &quot;2013&quot;, &quot;code&quot;: &quot;11170&quot;, &quot;name&quot;: &quot;\\uad6c\\ub85c\\uad6c&quot;, &quot;name_eng&quot;: &quot;Guro-gu&quot;}, &quot;type&quot;: &quot;Feature&quot;}, {&quot;geometry&quot;: {&quot;coordinates&quot;: [[[126.79575768552907, 37.57881087633202], [126.80702115023597, 37.60123001013228], [126.82251438477105, 37.5880430810082], [126.85984199399667, 37.571847855292745], [126.89184663862764, 37.547373974997114], [126.88825757860099, 37.54079733630232], [126.86637464321238, 37.54859191094823], [126.86610073476395, 37.52699964144669], [126.84257291943153, 37.52373707805596], [126.8242331426722, 37.53788078753248], [126.77324417717703, 37.5459123450554], [126.76979180579352, 37.55139183008809], [126.79575768552907, 37.57881087633202]]], &quot;type&quot;: &quot;Polygon&quot;}, &quot;id&quot;: &quot;\\uac15\\uc11c\\uad6c&quot;, &quot;properties&quot;: {&quot;base_year&quot;: &quot;2013&quot;, &quot;code&quot;: &quot;11160&quot;, &quot;name&quot;: &quot;\\uac15\\uc11c\\uad6c&quot;, &quot;name_eng&quot;: &quot;Gangseo-gu&quot;}, &quot;type&quot;: &quot;Feature&quot;}, {&quot;geometry&quot;: {&quot;coordinates&quot;: [[[126.8242331426722, 37.53788078753248], [126.84257291943153, 37.52373707805596], [126.86610073476395, 37.52699964144669], [126.86637464321238, 37.54859191094823], [126.88825757860099, 37.54079733630232], [126.88156402353862, 37.513970034765684], [126.82688081517314, 37.50548972232896], [126.8242331426722, 37.53788078753248]]], &quot;type&quot;: &quot;Polygon&quot;}, &quot;id&quot;: &quot;\\uc591\\ucc9c\\uad6c&quot;, &quot;properties&quot;: {&quot;base_year&quot;: &quot;2013&quot;, &quot;code&quot;: &quot;11150&quot;, &quot;name&quot;: &quot;\\uc591\\ucc9c\\uad6c&quot;, &quot;name_eng&quot;: &quot;Yangcheon-gu&quot;}, &quot;type&quot;: &quot;Feature&quot;}, {&quot;geometry&quot;: {&quot;coordinates&quot;: [[[126.90522065831053, 37.57409700522574], [126.93898161798973, 37.552310003728124], [126.96358226710812, 37.55605635475154], [126.96448570553055, 37.548705692021635], [126.94566733083212, 37.526617542453366], [126.89184663862764, 37.547373974997114], [126.85984199399667, 37.571847855292745], [126.88433284773288, 37.588143322880526], [126.90522065831053, 37.57409700522574]]], &quot;type&quot;: &quot;Polygon&quot;}, &quot;id&quot;: &quot;\\ub9c8\\ud3ec\\uad6c&quot;, &quot;properties&quot;: {&quot;base_year&quot;: &quot;2013&quot;, &quot;code&quot;: &quot;11140&quot;, &quot;name&quot;: &quot;\\ub9c8\\ud3ec\\uad6c&quot;, &quot;name_eng&quot;: &quot;Mapo-gu&quot;}, &quot;type&quot;: &quot;Feature&quot;}, {&quot;geometry&quot;: {&quot;coordinates&quot;: [[[126.9524752030572, 37.60508692737045], [126.95565425846463, 37.576080790881456], [126.96873633279075, 37.56313604690827], [126.96358226710812, 37.55605635475154], [126.93898161798973, 37.552310003728124], [126.90522065831053, 37.57409700522574], [126.9524752030572, 37.60508692737045]]], &quot;type&quot;: &quot;Polygon&quot;}, &quot;id&quot;: &quot;\\uc11c\\ub300\\ubb38\\uad6c&quot;, &quot;properties&quot;: {&quot;base_year&quot;: &quot;2013&quot;, &quot;code&quot;: &quot;11130&quot;, &quot;name&quot;: &quot;\\uc11c\\ub300\\ubb38\\uad6c&quot;, &quot;name_eng&quot;: &quot;Seodaemun-gu&quot;}, &quot;type&quot;: &quot;Feature&quot;}, {&quot;geometry&quot;: {&quot;coordinates&quot;: [[[126.9738864128702, 37.62949634786888], [126.95427017006129, 37.622033431339425], [126.9524752030572, 37.60508692737045], [126.90522065831053, 37.57409700522574], [126.88433284773288, 37.588143322880526], [126.90396681003595, 37.59227403419942], [126.90303066177668, 37.609977911401344], [126.91455481429648, 37.64150050996935], [126.956473797387, 37.652480737339445], [126.9738864128702, 37.62949634786888]]], &quot;type&quot;: &quot;Polygon&quot;}, &quot;id&quot;: &quot;\\uc740\\ud3c9\\uad6c&quot;, &quot;properties&quot;: {&quot;base_year&quot;: &quot;2013&quot;, &quot;code&quot;: &quot;11120&quot;, &quot;name&quot;: &quot;\\uc740\\ud3c9\\uad6c&quot;, &quot;name_eng&quot;: &quot;Eunpyeong-gu&quot;}, &quot;type&quot;: &quot;Feature&quot;}, {&quot;geometry&quot;: {&quot;coordinates&quot;: [[[127.0838752703195, 37.69359534202034], [127.09706391309695, 37.686383719372294], [127.09440766298717, 37.64713490473045], [127.11326795855199, 37.639622905315925], [127.10782277688129, 37.61804244241069], [127.07351243825278, 37.61283660342313], [127.05209373568619, 37.62164065487782], [127.04358800895609, 37.62848931298715], [127.05800075220091, 37.64318263878276], [127.05288479710485, 37.68423857084347], [127.0838752703195, 37.69359534202034]]], &quot;type&quot;: &quot;Polygon&quot;}, &quot;id&quot;: &quot;\\ub178\\uc6d0\\uad6c&quot;, &quot;properties&quot;: {&quot;base_year&quot;: &quot;2013&quot;, &quot;code&quot;: &quot;11110&quot;, &quot;name&quot;: &quot;\\ub178\\uc6d0\\uad6c&quot;, &quot;name_eng&quot;: &quot;Nowon-gu&quot;}, &quot;type&quot;: &quot;Feature&quot;}, {&quot;geometry&quot;: {&quot;coordinates&quot;: [[[127.05288479710485, 37.68423857084347], [127.05800075220091, 37.64318263878276], [127.04358800895609, 37.62848931298715], [127.01465935892466, 37.64943687496812], [127.02062116141389, 37.667173575971205], [127.01039666042071, 37.681894589603594], [127.01795099203432, 37.69824412775662], [127.05288479710485, 37.68423857084347]]], &quot;type&quot;: &quot;Polygon&quot;}, &quot;id&quot;: &quot;\\ub3c4\\ubd09\\uad6c&quot;, &quot;properties&quot;: {&quot;base_year&quot;: &quot;2013&quot;, &quot;code&quot;: &quot;11100&quot;, &quot;name&quot;: &quot;\\ub3c4\\ubd09\\uad6c&quot;, &quot;name_eng&quot;: &quot;Dobong-gu&quot;}, &quot;type&quot;: &quot;Feature&quot;}, {&quot;geometry&quot;: {&quot;coordinates&quot;: [[[126.99383903424, 37.676681761199085], [127.01039666042071, 37.681894589603594], [127.02062116141389, 37.667173575971205], [127.01465935892466, 37.64943687496812], [127.04358800895609, 37.62848931298715], [127.05209373568619, 37.62164065487782], [127.03892400992301, 37.609715611023816], [127.0128154749523, 37.613652243470256], [126.98672705513869, 37.63377641288196], [126.9817452676551, 37.65209769387776], [126.99383903424, 37.676681761199085]]], &quot;type&quot;: &quot;Polygon&quot;}, &quot;id&quot;: &quot;\\uac15\\ubd81\\uad6c&quot;, &quot;properties&quot;: {&quot;base_year&quot;: &quot;2013&quot;, &quot;code&quot;: &quot;11090&quot;, &quot;name&quot;: &quot;\\uac15\\ubd81\\uad6c&quot;, &quot;name_eng&quot;: &quot;Gangbuk-gu&quot;}, &quot;type&quot;: &quot;Feature&quot;}, {&quot;geometry&quot;: {&quot;coordinates&quot;: [[[126.977175406416, 37.62859715400388], [126.98672705513869, 37.63377641288196], [127.0128154749523, 37.613652243470256], [127.03892400992301, 37.609715611023816], [127.05209373568619, 37.62164065487782], [127.07351243825278, 37.61283660342313], [127.07382707099227, 37.60401928986419], [127.042705222094, 37.59239437593391], [127.02527254528003, 37.57524616245249], [126.99348293358314, 37.588565457216156], [126.98879865992384, 37.6118927319756], [126.977175406416, 37.62859715400388]]], &quot;type&quot;: &quot;Polygon&quot;}, &quot;id&quot;: &quot;\\uc131\\ubd81\\uad6c&quot;, &quot;properties&quot;: {&quot;base_year&quot;: &quot;2013&quot;, &quot;code&quot;: &quot;11080&quot;, &quot;name&quot;: &quot;\\uc131\\ubd81\\uad6c&quot;, &quot;name_eng&quot;: &quot;Seongbuk-gu&quot;}, &quot;type&quot;: &quot;Feature&quot;}, {&quot;geometry&quot;: {&quot;coordinates&quot;: [[[127.07351243825278, 37.61283660342313], [127.10782277688129, 37.61804244241069], [127.1201246020114, 37.60178457598188], [127.10304174249214, 37.57076342290955], [127.08068541280403, 37.56906425519017], [127.07382707099227, 37.60401928986419], [127.07351243825278, 37.61283660342313]]], &quot;type&quot;: &quot;Polygon&quot;}, &quot;id&quot;: &quot;\\uc911\\ub791\\uad6c&quot;, &quot;properties&quot;: {&quot;base_year&quot;: &quot;2013&quot;, &quot;code&quot;: &quot;11070&quot;, &quot;name&quot;: &quot;\\uc911\\ub791\\uad6c&quot;, &quot;name_eng&quot;: &quot;Jungnang-gu&quot;}, &quot;type&quot;: &quot;Feature&quot;}, {&quot;geometry&quot;: {&quot;coordinates&quot;: [[[127.02527254528003, 37.57524616245249], [127.042705222094, 37.59239437593391], [127.07382707099227, 37.60401928986419], [127.08068541280403, 37.56906425519017], [127.07421053024362, 37.55724769712085], [127.05005601081567, 37.567577612590846], [127.02547266349976, 37.568943552237734], [127.02527254528003, 37.57524616245249]]], &quot;type&quot;: &quot;Polygon&quot;}, &quot;id&quot;: &quot;\\ub3d9\\ub300\\ubb38\\uad6c&quot;, &quot;properties&quot;: {&quot;base_year&quot;: &quot;2013&quot;, &quot;code&quot;: &quot;11060&quot;, &quot;name&quot;: &quot;\\ub3d9\\ub300\\ubb38\\uad6c&quot;, &quot;name_eng&quot;: &quot;Dongdaemun-gu&quot;}, &quot;type&quot;: &quot;Feature&quot;}, {&quot;geometry&quot;: {&quot;coordinates&quot;: [[[127.08068541280403, 37.56906425519017], [127.10304174249214, 37.57076342290955], [127.11519584981606, 37.557533180704915], [127.1116764203608, 37.540669955324965], [127.10087519791962, 37.524841220167055], [127.0690698130372, 37.522279423505026], [127.05867359288398, 37.52629974922568], [127.07421053024362, 37.55724769712085], [127.08068541280403, 37.56906425519017]]], &quot;type&quot;: &quot;Polygon&quot;}, &quot;id&quot;: &quot;\\uad11\\uc9c4\\uad6c&quot;, &quot;properties&quot;: {&quot;base_year&quot;: &quot;2013&quot;, &quot;code&quot;: &quot;11050&quot;, &quot;name&quot;: &quot;\\uad11\\uc9c4\\uad6c&quot;, &quot;name_eng&quot;: &quot;Gwangjin-gu&quot;}, &quot;type&quot;: &quot;Feature&quot;}, {&quot;geometry&quot;: {&quot;coordinates&quot;: [[[127.02547266349976, 37.568943552237734], [127.05005601081567, 37.567577612590846], [127.07421053024362, 37.55724769712085], [127.05867359288398, 37.52629974922568], [127.02302831890559, 37.53231899582663], [127.01070894177482, 37.54118048964762], [127.02547266349976, 37.568943552237734]]], &quot;type&quot;: &quot;Polygon&quot;}, &quot;id&quot;: &quot;\\uc131\\ub3d9\\uad6c&quot;, &quot;properties&quot;: {&quot;base_year&quot;: &quot;2013&quot;, &quot;code&quot;: &quot;11040&quot;, &quot;name&quot;: &quot;\\uc131\\ub3d9\\uad6c&quot;, &quot;name_eng&quot;: &quot;Seongdong-gu&quot;}, &quot;type&quot;: &quot;Feature&quot;}, {&quot;geometry&quot;: {&quot;coordinates&quot;: [[[127.01070894177482, 37.54118048964762], [127.02302831890559, 37.53231899582663], [127.01397119667513, 37.52503988289669], [126.98223807916081, 37.509314966770326], [126.95249990298159, 37.51722500741813], [126.94566733083212, 37.526617542453366], [126.96448570553055, 37.548705692021635], [126.98752996903328, 37.55094818807139], [127.01070894177482, 37.54118048964762]]], &quot;type&quot;: &quot;Polygon&quot;}, &quot;id&quot;: &quot;\\uc6a9\\uc0b0\\uad6c&quot;, &quot;properties&quot;: {&quot;base_year&quot;: &quot;2013&quot;, &quot;code&quot;: &quot;11030&quot;, &quot;name&quot;: &quot;\\uc6a9\\uc0b0\\uad6c&quot;, &quot;name_eng&quot;: &quot;Yongsan-gu&quot;}, &quot;type&quot;: &quot;Feature&quot;}, {&quot;geometry&quot;: {&quot;coordinates&quot;: [[[127.02547266349976, 37.568943552237734], [127.01070894177482, 37.54118048964762], [126.98752996903328, 37.55094818807139], [126.96448570553055, 37.548705692021635], [126.96358226710812, 37.55605635475154], [126.96873633279075, 37.56313604690827], [127.02547266349976, 37.568943552237734]]], &quot;type&quot;: &quot;Polygon&quot;}, &quot;id&quot;: &quot;\\uc911\\uad6c&quot;, &quot;properties&quot;: {&quot;base_year&quot;: &quot;2013&quot;, &quot;code&quot;: &quot;11020&quot;, &quot;name&quot;: &quot;\\uc911\\uad6c&quot;, &quot;name_eng&quot;: &quot;Jung-gu&quot;}, &quot;type&quot;: &quot;Feature&quot;}, {&quot;geometry&quot;: {&quot;coordinates&quot;: [[[126.9738864128702, 37.62949634786888], [126.977175406416, 37.62859715400388], [126.98879865992384, 37.6118927319756], [126.99348293358314, 37.588565457216156], [127.02527254528003, 37.57524616245249], [127.02547266349976, 37.568943552237734], [126.96873633279075, 37.56313604690827], [126.95565425846463, 37.576080790881456], [126.9524752030572, 37.60508692737045], [126.95427017006129, 37.622033431339425], [126.9738864128702, 37.62949634786888]]], &quot;type&quot;: &quot;Polygon&quot;}, &quot;id&quot;: &quot;\\uc885\\ub85c\\uad6c&quot;, &quot;properties&quot;: {&quot;base_year&quot;: &quot;2013&quot;, &quot;code&quot;: &quot;11010&quot;, &quot;name&quot;: &quot;\\uc885\\ub85c\\uad6c&quot;, &quot;name_eng&quot;: &quot;Jongno-gu&quot;}, &quot;type&quot;: &quot;Feature&quot;}], &quot;type&quot;: &quot;FeatureCollection&quot;});\n",
       "\n",
       "        \n",
       "    \n",
       "    var color_map_b604c3b9e97391b383e102906f0f7041 = {};\n",
       "\n",
       "    \n",
       "    color_map_b604c3b9e97391b383e102906f0f7041.color = d3.scale.threshold()\n",
       "              .domain([1528.5833333333333, 1529.4924849699398, 1530.4016366065464, 1531.310788243153, 1532.2199398797595, 1533.129091516366, 1534.0382431529724, 1534.947394789579, 1535.8565464261856, 1536.7656980627921, 1537.6748496993987, 1538.5840013360053, 1539.4931529726118, 1540.4023046092184, 1541.311456245825, 1542.2206078824315, 1543.129759519038, 1544.0389111556447, 1544.948062792251, 1545.8572144288576, 1546.7663660654641, 1547.6755177020707, 1548.5846693386773, 1549.4938209752838, 1550.4029726118904, 1551.312124248497, 1552.2212758851035, 1553.13042752171, 1554.0395791583167, 1554.948730794923, 1555.8578824315296, 1556.7670340681361, 1557.6761857047427, 1558.5853373413493, 1559.4944889779558, 1560.4036406145624, 1561.312792251169, 1562.2219438877755, 1563.131095524382, 1564.0402471609887, 1564.9493987975952, 1565.8585504342016, 1566.7677020708081, 1567.6768537074147, 1568.5860053440213, 1569.4951569806278, 1570.4043086172344, 1571.313460253841, 1572.2226118904475, 1573.131763527054, 1574.0409151636607, 1574.9500668002672, 1575.8592184368738, 1576.7683700734801, 1577.6775217100867, 1578.5866733466933, 1579.4958249832998, 1580.4049766199064, 1581.314128256513, 1582.2232798931195, 1583.132431529726, 1584.0415831663327, 1584.9507348029392, 1585.8598864395458, 1586.7690380761524, 1587.6781897127587, 1588.5873413493653, 1589.4964929859718, 1590.4056446225784, 1591.314796259185, 1592.2239478957915, 1593.133099532398, 1594.0422511690047, 1594.9514028056112, 1595.8605544422178, 1596.7697060788244, 1597.6788577154307, 1598.5880093520373, 1599.4971609886438, 1600.4063126252504, 1601.315464261857, 1602.2246158984635, 1603.13376753507, 1604.0429191716767, 1604.9520708082832, 1605.8612224448898, 1606.7703740814964, 1607.679525718103, 1608.5886773547093, 1609.4978289913158, 1610.4069806279224, 1611.316132264529, 1612.2252839011355, 1613.134435537742, 1614.0435871743487, 1614.9527388109552, 1615.8618904475618, 1616.7710420841684, 1617.680193720775, 1618.5893453573813, 1619.4984969939878, 1620.4076486305944, 1621.316800267201, 1622.2259519038075, 1623.135103540414, 1624.0442551770207, 1624.9534068136272, 1625.8625584502338, 1626.7717100868404, 1627.680861723447, 1628.5900133600535, 1629.4991649966598, 1630.4083166332664, 1631.317468269873, 1632.2266199064795, 1633.135771543086, 1634.0449231796927, 1634.9540748162992, 1635.8632264529058, 1636.7723780895124, 1637.681529726119, 1638.5906813627255, 1639.4998329993318, 1640.4089846359384, 1641.318136272545, 1642.2272879091515, 1643.136439545758, 1644.0455911823647, 1644.9547428189712, 1645.8638944555778, 1646.7730460921844, 1647.682197728791, 1648.5913493653975, 1649.500501002004, 1650.4096526386104, 1651.318804275217, 1652.2279559118235, 1653.13710754843, 1654.0462591850367, 1654.9554108216432, 1655.8645624582498, 1656.7737140948564, 1657.682865731463, 1658.5920173680695, 1659.501169004676, 1660.4103206412824, 1661.319472277889, 1662.2286239144955, 1663.137775551102, 1664.0469271877087, 1664.9560788243152, 1665.8652304609218, 1666.7743820975284, 1667.683533734135, 1668.5926853707415, 1669.501837007348, 1670.4109886439546, 1671.320140280561, 1672.2292919171675, 1673.138443553774, 1674.0475951903807, 1674.9567468269872, 1675.8658984635938, 1676.7750501002004, 1677.684201736807, 1678.5933533734135, 1679.50250501002, 1680.4116566466266, 1681.320808283233, 1682.2299599198395, 1683.139111556446, 1684.0482631930527, 1684.9574148296592, 1685.8665664662658, 1686.7757181028724, 1687.684869739479, 1688.5940213760855, 1689.503173012692, 1690.4123246492986, 1691.3214762859052, 1692.2306279225118, 1693.1397795591183, 1694.0489311957247, 1694.9580828323312, 1695.8672344689378, 1696.7763861055444, 1697.685537742151, 1698.5946893787575, 1699.503841015364, 1700.4129926519706, 1701.3221442885772, 1702.2312959251835, 1703.14044756179, 1704.0495991983967, 1704.9587508350032, 1705.8679024716098, 1706.7770541082164, 1707.686205744823, 1708.5953573814295, 1709.504509018036, 1710.4136606546426, 1711.3228122912492, 1712.2319639278558, 1713.1411155644623, 1714.0502672010687, 1714.9594188376752, 1715.8685704742818, 1716.7777221108884, 1717.686873747495, 1718.5960253841015, 1719.505177020708, 1720.4143286573146, 1721.3234802939212, 1722.2326319305278, 1723.1417835671343, 1724.0509352037407, 1724.9600868403472, 1725.8692384769538, 1726.7783901135604, 1727.687541750167, 1728.5966933867735, 1729.50584502338, 1730.4149966599866, 1731.3241482965932, 1732.2332999331998, 1733.1424515698063, 1734.051603206413, 1734.9607548430195, 1735.8699064796258, 1736.7790581162324, 1737.688209752839, 1738.5973613894455, 1739.506513026052, 1740.4156646626586, 1741.3248162992652, 1742.2339679358718, 1743.1431195724783, 1744.0522712090847, 1744.9614228456912, 1745.8705744822978, 1746.7797261189044, 1747.688877755511, 1748.5980293921175, 1749.507181028724, 1750.4163326653306, 1751.3254843019372, 1752.2346359385438, 1753.1437875751503, 1754.052939211757, 1754.9620908483635, 1755.87124248497, 1756.7803941215764, 1757.689545758183, 1758.5986973947895, 1759.507849031396, 1760.4170006680026, 1761.3261523046092, 1762.2353039412158, 1763.1444555778223, 1764.053607214429, 1764.9627588510355, 1765.8719104876418, 1766.7810621242484, 1767.690213760855, 1768.5993653974615, 1769.508517034068, 1770.4176686706746, 1771.3268203072812, 1772.2359719438878, 1773.1451235804943, 1774.054275217101, 1774.9634268537075, 1775.872578490314, 1776.7817301269204, 1777.690881763527, 1778.6000334001335, 1779.50918503674, 1780.4183366733466, 1781.3274883099532, 1782.2366399465598, 1783.1457915831663, 1784.054943219773, 1784.9640948563795, 1785.8732464929858, 1786.7823981295924, 1787.691549766199, 1788.6007014028055, 1789.509853039412, 1790.4190046760186, 1791.3281563126252, 1792.2373079492318, 1793.1464595858383, 1794.055611222445, 1794.9647628590515, 1795.873914495658, 1796.7830661322646, 1797.6922177688712, 1798.6013694054777, 1799.510521042084, 1800.4196726786906, 1801.3288243152972, 1802.2379759519038, 1803.1471275885103, 1804.056279225117, 1804.9654308617235, 1805.8745824983298, 1806.7837341349366, 1807.692885771543, 1808.6020374081495, 1809.511189044756, 1810.4203406813626, 1811.3294923179692, 1812.2386439545758, 1813.1477955911823, 1814.056947227789, 1814.9660988643955, 1815.875250501002, 1816.7844021376086, 1817.6935537742152, 1818.6027054108217, 1819.5118570474283, 1820.4210086840349, 1821.3301603206412, 1822.2393119572478, 1823.1484635938543, 1824.057615230461, 1824.9667668670675, 1825.875918503674, 1826.7850701402806, 1827.6942217768872, 1828.6033734134935, 1829.5125250501, 1830.4216766867066, 1831.3308283233132, 1832.2399799599198, 1833.1491315965263, 1834.058283233133, 1834.9674348697395, 1835.876586506346, 1836.7857381429526, 1837.6948897795592, 1838.6040414161657, 1839.5131930527723, 1840.4223446893789, 1841.3314963259854, 1842.2406479625918, 1843.1497995991983, 1844.058951235805, 1844.9681028724115, 1845.877254509018, 1846.7864061456246, 1847.6955577822312, 1848.6047094188375, 1849.5138610554443, 1850.4230126920506, 1851.3321643286572, 1852.2413159652638, 1853.1504676018703, 1854.059619238477, 1854.9687708750835, 1855.87792251169, 1856.7870741482966, 1857.6962257849032, 1858.6053774215097, 1859.5145290581163, 1860.4236806947229, 1861.3328323313294, 1862.2419839679358, 1863.1511356045426, 1864.060287241149, 1864.9694388777555, 1865.878590514362, 1866.7877421509686, 1867.6968937875752, 1868.6060454241817, 1869.5151970607883, 1870.4243486973946, 1871.3335003340012, 1872.2426519706078, 1873.1518036072143, 1874.060955243821, 1874.9701068804275, 1875.879258517034, 1876.7884101536406, 1877.6975617902472, 1878.6067134268537, 1879.5158650634603, 1880.4250167000669, 1881.3341683366734, 1882.24331997328, 1883.1524716098866, 1884.061623246493, 1884.9707748830995, 1885.879926519706, 1886.7890781563126, 1887.6982297929192, 1888.6073814295257, 1889.5165330661323, 1890.4256847027389, 1891.3348363393452, 1892.2439879759518, 1893.1531396125583, 1894.062291249165, 1894.9714428857715, 1895.880594522378, 1896.7897461589846, 1897.6988977955912, 1898.6080494321977, 1899.5172010688043, 1900.4263527054109, 1901.3355043420174, 1902.244655978624, 1903.1538076152306, 1904.0629592518371, 1904.9721108884435, 1905.88126252505, 1906.7904141616566, 1907.6995657982632, 1908.6087174348697, 1909.5178690714763, 1910.4270207080829, 1911.3361723446892, 1912.245323981296, 1913.1544756179023, 1914.063627254509, 1914.9727788911155, 1915.881930527722, 1916.7910821643286, 1917.7002338009352, 1918.6093854375417, 1919.5185370741483, 1920.4276887107549, 1921.3368403473614, 1922.245991983968, 1923.1551436205746, 1924.0642952571811, 1924.9734468937875, 1925.8825985303943, 1926.7917501670006, 1927.7009018036072, 1928.6100534402137, 1929.5192050768203, 1930.4283567134269, 1931.3375083500334, 1932.24665998664, 1933.1558116232463, 1934.064963259853, 1934.9741148964595, 1935.883266533066, 1936.7924181696726, 1937.7015698062792, 1938.6107214428857, 1939.5198730794923, 1940.4290247160989, 1941.3381763527054, 1942.247327989312, 1943.1564796259186, 1944.0656312625251, 1944.9747828991317, 1945.8839345357383, 1946.7930861723448, 1947.7022378089512, 1948.6113894455577, 1949.5205410821643, 1950.4296927187709, 1951.3388443553774, 1952.247995991984, 1953.1571476285906, 1954.066299265197, 1954.9754509018037, 1955.88460253841, 1956.7937541750166, 1957.7029058116232, 1958.6120574482297, 1959.5212090848363, 1960.4303607214429, 1961.3395123580494, 1962.248663994656, 1963.1578156312626, 1964.0669672678691, 1964.9761189044757, 1965.8852705410823, 1966.7944221776888, 1967.7035738142952, 1968.612725450902, 1969.5218770875083, 1970.4310287241149, 1971.3401803607214, 1972.249331997328, 1973.1584836339346, 1974.0676352705411, 1974.9767869071477, 1975.885938543754, 1976.7950901803606, 1977.7042418169672, 1978.6133934535737, 1979.5225450901803, 1980.4316967267869, 1981.3408483633934, 1982.25])\n",
       "              .range([&#x27;#f1eef6ff&#x27;, &#x27;#f1eef6ff&#x27;, &#x27;#f1eef6ff&#x27;, &#x27;#f1eef6ff&#x27;, &#x27;#f1eef6ff&#x27;, &#x27;#f1eef6ff&#x27;, &#x27;#f1eef6ff&#x27;, &#x27;#f1eef6ff&#x27;, &#x27;#f1eef6ff&#x27;, &#x27;#f1eef6ff&#x27;, &#x27;#f1eef6ff&#x27;, &#x27;#f1eef6ff&#x27;, &#x27;#f1eef6ff&#x27;, &#x27;#f1eef6ff&#x27;, &#x27;#f1eef6ff&#x27;, &#x27;#f1eef6ff&#x27;, &#x27;#f1eef6ff&#x27;, &#x27;#f1eef6ff&#x27;, &#x27;#f1eef6ff&#x27;, &#x27;#f1eef6ff&#x27;, &#x27;#f1eef6ff&#x27;, &#x27;#f1eef6ff&#x27;, &#x27;#f1eef6ff&#x27;, &#x27;#f1eef6ff&#x27;, &#x27;#f1eef6ff&#x27;, &#x27;#f1eef6ff&#x27;, &#x27;#f1eef6ff&#x27;, &#x27;#f1eef6ff&#x27;, &#x27;#f1eef6ff&#x27;, &#x27;#f1eef6ff&#x27;, &#x27;#f1eef6ff&#x27;, &#x27;#f1eef6ff&#x27;, &#x27;#f1eef6ff&#x27;, &#x27;#f1eef6ff&#x27;, &#x27;#f1eef6ff&#x27;, &#x27;#f1eef6ff&#x27;, &#x27;#f1eef6ff&#x27;, &#x27;#f1eef6ff&#x27;, &#x27;#f1eef6ff&#x27;, &#x27;#f1eef6ff&#x27;, &#x27;#f1eef6ff&#x27;, &#x27;#f1eef6ff&#x27;, &#x27;#f1eef6ff&#x27;, &#x27;#f1eef6ff&#x27;, &#x27;#f1eef6ff&#x27;, &#x27;#f1eef6ff&#x27;, &#x27;#f1eef6ff&#x27;, &#x27;#f1eef6ff&#x27;, &#x27;#f1eef6ff&#x27;, &#x27;#f1eef6ff&#x27;, &#x27;#f1eef6ff&#x27;, &#x27;#f1eef6ff&#x27;, &#x27;#f1eef6ff&#x27;, &#x27;#f1eef6ff&#x27;, &#x27;#f1eef6ff&#x27;, &#x27;#f1eef6ff&#x27;, &#x27;#f1eef6ff&#x27;, &#x27;#f1eef6ff&#x27;, &#x27;#f1eef6ff&#x27;, &#x27;#f1eef6ff&#x27;, &#x27;#f1eef6ff&#x27;, &#x27;#f1eef6ff&#x27;, &#x27;#f1eef6ff&#x27;, &#x27;#f1eef6ff&#x27;, &#x27;#f1eef6ff&#x27;, &#x27;#f1eef6ff&#x27;, &#x27;#f1eef6ff&#x27;, &#x27;#f1eef6ff&#x27;, &#x27;#f1eef6ff&#x27;, &#x27;#f1eef6ff&#x27;, &#x27;#f1eef6ff&#x27;, &#x27;#f1eef6ff&#x27;, &#x27;#f1eef6ff&#x27;, &#x27;#f1eef6ff&#x27;, &#x27;#f1eef6ff&#x27;, &#x27;#f1eef6ff&#x27;, &#x27;#f1eef6ff&#x27;, &#x27;#f1eef6ff&#x27;, &#x27;#f1eef6ff&#x27;, &#x27;#f1eef6ff&#x27;, &#x27;#f1eef6ff&#x27;, &#x27;#f1eef6ff&#x27;, &#x27;#f1eef6ff&#x27;, &#x27;#f1eef6ff&#x27;, &#x27;#d4b9daff&#x27;, &#x27;#d4b9daff&#x27;, &#x27;#d4b9daff&#x27;, &#x27;#d4b9daff&#x27;, &#x27;#d4b9daff&#x27;, &#x27;#d4b9daff&#x27;, &#x27;#d4b9daff&#x27;, &#x27;#d4b9daff&#x27;, &#x27;#d4b9daff&#x27;, &#x27;#d4b9daff&#x27;, &#x27;#d4b9daff&#x27;, &#x27;#d4b9daff&#x27;, &#x27;#d4b9daff&#x27;, &#x27;#d4b9daff&#x27;, &#x27;#d4b9daff&#x27;, &#x27;#d4b9daff&#x27;, &#x27;#d4b9daff&#x27;, &#x27;#d4b9daff&#x27;, &#x27;#d4b9daff&#x27;, &#x27;#d4b9daff&#x27;, &#x27;#d4b9daff&#x27;, &#x27;#d4b9daff&#x27;, &#x27;#d4b9daff&#x27;, &#x27;#d4b9daff&#x27;, &#x27;#d4b9daff&#x27;, &#x27;#d4b9daff&#x27;, &#x27;#d4b9daff&#x27;, &#x27;#d4b9daff&#x27;, &#x27;#d4b9daff&#x27;, &#x27;#d4b9daff&#x27;, &#x27;#d4b9daff&#x27;, &#x27;#d4b9daff&#x27;, &#x27;#d4b9daff&#x27;, &#x27;#d4b9daff&#x27;, &#x27;#d4b9daff&#x27;, &#x27;#d4b9daff&#x27;, &#x27;#d4b9daff&#x27;, &#x27;#d4b9daff&#x27;, &#x27;#d4b9daff&#x27;, &#x27;#d4b9daff&#x27;, &#x27;#d4b9daff&#x27;, &#x27;#d4b9daff&#x27;, &#x27;#d4b9daff&#x27;, &#x27;#d4b9daff&#x27;, &#x27;#d4b9daff&#x27;, &#x27;#d4b9daff&#x27;, &#x27;#d4b9daff&#x27;, &#x27;#d4b9daff&#x27;, &#x27;#d4b9daff&#x27;, &#x27;#d4b9daff&#x27;, &#x27;#d4b9daff&#x27;, &#x27;#d4b9daff&#x27;, &#x27;#d4b9daff&#x27;, &#x27;#d4b9daff&#x27;, &#x27;#d4b9daff&#x27;, &#x27;#d4b9daff&#x27;, &#x27;#d4b9daff&#x27;, &#x27;#d4b9daff&#x27;, &#x27;#d4b9daff&#x27;, &#x27;#d4b9daff&#x27;, &#x27;#d4b9daff&#x27;, &#x27;#d4b9daff&#x27;, &#x27;#d4b9daff&#x27;, &#x27;#d4b9daff&#x27;, &#x27;#d4b9daff&#x27;, &#x27;#d4b9daff&#x27;, &#x27;#d4b9daff&#x27;, &#x27;#d4b9daff&#x27;, &#x27;#d4b9daff&#x27;, &#x27;#d4b9daff&#x27;, &#x27;#d4b9daff&#x27;, &#x27;#d4b9daff&#x27;, &#x27;#d4b9daff&#x27;, &#x27;#d4b9daff&#x27;, &#x27;#d4b9daff&#x27;, &#x27;#d4b9daff&#x27;, &#x27;#d4b9daff&#x27;, &#x27;#d4b9daff&#x27;, &#x27;#d4b9daff&#x27;, &#x27;#d4b9daff&#x27;, &#x27;#d4b9daff&#x27;, &#x27;#d4b9daff&#x27;, &#x27;#d4b9daff&#x27;, &#x27;#c994c7ff&#x27;, &#x27;#c994c7ff&#x27;, &#x27;#c994c7ff&#x27;, &#x27;#c994c7ff&#x27;, &#x27;#c994c7ff&#x27;, &#x27;#c994c7ff&#x27;, &#x27;#c994c7ff&#x27;, &#x27;#c994c7ff&#x27;, &#x27;#c994c7ff&#x27;, &#x27;#c994c7ff&#x27;, &#x27;#c994c7ff&#x27;, &#x27;#c994c7ff&#x27;, &#x27;#c994c7ff&#x27;, &#x27;#c994c7ff&#x27;, &#x27;#c994c7ff&#x27;, &#x27;#c994c7ff&#x27;, &#x27;#c994c7ff&#x27;, &#x27;#c994c7ff&#x27;, &#x27;#c994c7ff&#x27;, &#x27;#c994c7ff&#x27;, &#x27;#c994c7ff&#x27;, &#x27;#c994c7ff&#x27;, &#x27;#c994c7ff&#x27;, &#x27;#c994c7ff&#x27;, &#x27;#c994c7ff&#x27;, &#x27;#c994c7ff&#x27;, &#x27;#c994c7ff&#x27;, &#x27;#c994c7ff&#x27;, &#x27;#c994c7ff&#x27;, &#x27;#c994c7ff&#x27;, &#x27;#c994c7ff&#x27;, &#x27;#c994c7ff&#x27;, &#x27;#c994c7ff&#x27;, &#x27;#c994c7ff&#x27;, &#x27;#c994c7ff&#x27;, &#x27;#c994c7ff&#x27;, &#x27;#c994c7ff&#x27;, &#x27;#c994c7ff&#x27;, &#x27;#c994c7ff&#x27;, &#x27;#c994c7ff&#x27;, &#x27;#c994c7ff&#x27;, &#x27;#c994c7ff&#x27;, &#x27;#c994c7ff&#x27;, &#x27;#c994c7ff&#x27;, &#x27;#c994c7ff&#x27;, &#x27;#c994c7ff&#x27;, &#x27;#c994c7ff&#x27;, &#x27;#c994c7ff&#x27;, &#x27;#c994c7ff&#x27;, &#x27;#c994c7ff&#x27;, &#x27;#c994c7ff&#x27;, &#x27;#c994c7ff&#x27;, &#x27;#c994c7ff&#x27;, &#x27;#c994c7ff&#x27;, &#x27;#c994c7ff&#x27;, &#x27;#c994c7ff&#x27;, &#x27;#c994c7ff&#x27;, &#x27;#c994c7ff&#x27;, &#x27;#c994c7ff&#x27;, &#x27;#c994c7ff&#x27;, &#x27;#c994c7ff&#x27;, &#x27;#c994c7ff&#x27;, &#x27;#c994c7ff&#x27;, &#x27;#c994c7ff&#x27;, &#x27;#c994c7ff&#x27;, &#x27;#c994c7ff&#x27;, &#x27;#c994c7ff&#x27;, &#x27;#c994c7ff&#x27;, &#x27;#c994c7ff&#x27;, &#x27;#c994c7ff&#x27;, &#x27;#c994c7ff&#x27;, &#x27;#c994c7ff&#x27;, &#x27;#c994c7ff&#x27;, &#x27;#c994c7ff&#x27;, &#x27;#c994c7ff&#x27;, &#x27;#c994c7ff&#x27;, &#x27;#c994c7ff&#x27;, &#x27;#c994c7ff&#x27;, &#x27;#c994c7ff&#x27;, &#x27;#c994c7ff&#x27;, &#x27;#c994c7ff&#x27;, &#x27;#c994c7ff&#x27;, &#x27;#c994c7ff&#x27;, &#x27;#df65b0ff&#x27;, &#x27;#df65b0ff&#x27;, &#x27;#df65b0ff&#x27;, &#x27;#df65b0ff&#x27;, &#x27;#df65b0ff&#x27;, &#x27;#df65b0ff&#x27;, &#x27;#df65b0ff&#x27;, &#x27;#df65b0ff&#x27;, &#x27;#df65b0ff&#x27;, &#x27;#df65b0ff&#x27;, &#x27;#df65b0ff&#x27;, &#x27;#df65b0ff&#x27;, &#x27;#df65b0ff&#x27;, &#x27;#df65b0ff&#x27;, &#x27;#df65b0ff&#x27;, &#x27;#df65b0ff&#x27;, &#x27;#df65b0ff&#x27;, &#x27;#df65b0ff&#x27;, &#x27;#df65b0ff&#x27;, &#x27;#df65b0ff&#x27;, &#x27;#df65b0ff&#x27;, &#x27;#df65b0ff&#x27;, &#x27;#df65b0ff&#x27;, &#x27;#df65b0ff&#x27;, &#x27;#df65b0ff&#x27;, &#x27;#df65b0ff&#x27;, &#x27;#df65b0ff&#x27;, &#x27;#df65b0ff&#x27;, &#x27;#df65b0ff&#x27;, &#x27;#df65b0ff&#x27;, &#x27;#df65b0ff&#x27;, &#x27;#df65b0ff&#x27;, &#x27;#df65b0ff&#x27;, &#x27;#df65b0ff&#x27;, &#x27;#df65b0ff&#x27;, &#x27;#df65b0ff&#x27;, &#x27;#df65b0ff&#x27;, &#x27;#df65b0ff&#x27;, &#x27;#df65b0ff&#x27;, &#x27;#df65b0ff&#x27;, &#x27;#df65b0ff&#x27;, &#x27;#df65b0ff&#x27;, &#x27;#df65b0ff&#x27;, &#x27;#df65b0ff&#x27;, &#x27;#df65b0ff&#x27;, &#x27;#df65b0ff&#x27;, &#x27;#df65b0ff&#x27;, &#x27;#df65b0ff&#x27;, &#x27;#df65b0ff&#x27;, &#x27;#df65b0ff&#x27;, &#x27;#df65b0ff&#x27;, &#x27;#df65b0ff&#x27;, &#x27;#df65b0ff&#x27;, &#x27;#df65b0ff&#x27;, &#x27;#df65b0ff&#x27;, &#x27;#df65b0ff&#x27;, &#x27;#df65b0ff&#x27;, &#x27;#df65b0ff&#x27;, &#x27;#df65b0ff&#x27;, &#x27;#df65b0ff&#x27;, &#x27;#df65b0ff&#x27;, &#x27;#df65b0ff&#x27;, &#x27;#df65b0ff&#x27;, &#x27;#df65b0ff&#x27;, &#x27;#df65b0ff&#x27;, &#x27;#df65b0ff&#x27;, &#x27;#df65b0ff&#x27;, &#x27;#df65b0ff&#x27;, &#x27;#df65b0ff&#x27;, &#x27;#df65b0ff&#x27;, &#x27;#df65b0ff&#x27;, &#x27;#df65b0ff&#x27;, &#x27;#df65b0ff&#x27;, &#x27;#df65b0ff&#x27;, &#x27;#df65b0ff&#x27;, &#x27;#df65b0ff&#x27;, &#x27;#df65b0ff&#x27;, &#x27;#df65b0ff&#x27;, &#x27;#df65b0ff&#x27;, &#x27;#df65b0ff&#x27;, &#x27;#df65b0ff&#x27;, &#x27;#df65b0ff&#x27;, &#x27;#df65b0ff&#x27;, &#x27;#dd1c77ff&#x27;, &#x27;#dd1c77ff&#x27;, &#x27;#dd1c77ff&#x27;, &#x27;#dd1c77ff&#x27;, &#x27;#dd1c77ff&#x27;, &#x27;#dd1c77ff&#x27;, &#x27;#dd1c77ff&#x27;, &#x27;#dd1c77ff&#x27;, &#x27;#dd1c77ff&#x27;, &#x27;#dd1c77ff&#x27;, &#x27;#dd1c77ff&#x27;, &#x27;#dd1c77ff&#x27;, &#x27;#dd1c77ff&#x27;, &#x27;#dd1c77ff&#x27;, &#x27;#dd1c77ff&#x27;, &#x27;#dd1c77ff&#x27;, &#x27;#dd1c77ff&#x27;, &#x27;#dd1c77ff&#x27;, &#x27;#dd1c77ff&#x27;, &#x27;#dd1c77ff&#x27;, &#x27;#dd1c77ff&#x27;, &#x27;#dd1c77ff&#x27;, &#x27;#dd1c77ff&#x27;, &#x27;#dd1c77ff&#x27;, &#x27;#dd1c77ff&#x27;, &#x27;#dd1c77ff&#x27;, &#x27;#dd1c77ff&#x27;, &#x27;#dd1c77ff&#x27;, &#x27;#dd1c77ff&#x27;, &#x27;#dd1c77ff&#x27;, &#x27;#dd1c77ff&#x27;, &#x27;#dd1c77ff&#x27;, &#x27;#dd1c77ff&#x27;, &#x27;#dd1c77ff&#x27;, &#x27;#dd1c77ff&#x27;, &#x27;#dd1c77ff&#x27;, &#x27;#dd1c77ff&#x27;, &#x27;#dd1c77ff&#x27;, &#x27;#dd1c77ff&#x27;, &#x27;#dd1c77ff&#x27;, &#x27;#dd1c77ff&#x27;, &#x27;#dd1c77ff&#x27;, &#x27;#dd1c77ff&#x27;, &#x27;#dd1c77ff&#x27;, &#x27;#dd1c77ff&#x27;, &#x27;#dd1c77ff&#x27;, &#x27;#dd1c77ff&#x27;, &#x27;#dd1c77ff&#x27;, &#x27;#dd1c77ff&#x27;, &#x27;#dd1c77ff&#x27;, &#x27;#dd1c77ff&#x27;, &#x27;#dd1c77ff&#x27;, &#x27;#dd1c77ff&#x27;, &#x27;#dd1c77ff&#x27;, &#x27;#dd1c77ff&#x27;, &#x27;#dd1c77ff&#x27;, &#x27;#dd1c77ff&#x27;, &#x27;#dd1c77ff&#x27;, &#x27;#dd1c77ff&#x27;, &#x27;#dd1c77ff&#x27;, &#x27;#dd1c77ff&#x27;, &#x27;#dd1c77ff&#x27;, &#x27;#dd1c77ff&#x27;, &#x27;#dd1c77ff&#x27;, &#x27;#dd1c77ff&#x27;, &#x27;#dd1c77ff&#x27;, &#x27;#dd1c77ff&#x27;, &#x27;#dd1c77ff&#x27;, &#x27;#dd1c77ff&#x27;, &#x27;#dd1c77ff&#x27;, &#x27;#dd1c77ff&#x27;, &#x27;#dd1c77ff&#x27;, &#x27;#dd1c77ff&#x27;, &#x27;#dd1c77ff&#x27;, &#x27;#dd1c77ff&#x27;, &#x27;#dd1c77ff&#x27;, &#x27;#dd1c77ff&#x27;, &#x27;#dd1c77ff&#x27;, &#x27;#dd1c77ff&#x27;, &#x27;#dd1c77ff&#x27;, &#x27;#dd1c77ff&#x27;, &#x27;#dd1c77ff&#x27;, &#x27;#dd1c77ff&#x27;, &#x27;#980043ff&#x27;, &#x27;#980043ff&#x27;, &#x27;#980043ff&#x27;, &#x27;#980043ff&#x27;, &#x27;#980043ff&#x27;, &#x27;#980043ff&#x27;, &#x27;#980043ff&#x27;, &#x27;#980043ff&#x27;, &#x27;#980043ff&#x27;, &#x27;#980043ff&#x27;, &#x27;#980043ff&#x27;, &#x27;#980043ff&#x27;, &#x27;#980043ff&#x27;, &#x27;#980043ff&#x27;, &#x27;#980043ff&#x27;, &#x27;#980043ff&#x27;, &#x27;#980043ff&#x27;, &#x27;#980043ff&#x27;, &#x27;#980043ff&#x27;, &#x27;#980043ff&#x27;, &#x27;#980043ff&#x27;, &#x27;#980043ff&#x27;, &#x27;#980043ff&#x27;, &#x27;#980043ff&#x27;, &#x27;#980043ff&#x27;, &#x27;#980043ff&#x27;, &#x27;#980043ff&#x27;, &#x27;#980043ff&#x27;, &#x27;#980043ff&#x27;, &#x27;#980043ff&#x27;, &#x27;#980043ff&#x27;, &#x27;#980043ff&#x27;, &#x27;#980043ff&#x27;, &#x27;#980043ff&#x27;, &#x27;#980043ff&#x27;, &#x27;#980043ff&#x27;, &#x27;#980043ff&#x27;, &#x27;#980043ff&#x27;, &#x27;#980043ff&#x27;, &#x27;#980043ff&#x27;, &#x27;#980043ff&#x27;, &#x27;#980043ff&#x27;, &#x27;#980043ff&#x27;, &#x27;#980043ff&#x27;, &#x27;#980043ff&#x27;, &#x27;#980043ff&#x27;, &#x27;#980043ff&#x27;, &#x27;#980043ff&#x27;, &#x27;#980043ff&#x27;, &#x27;#980043ff&#x27;, &#x27;#980043ff&#x27;, &#x27;#980043ff&#x27;, &#x27;#980043ff&#x27;, &#x27;#980043ff&#x27;, &#x27;#980043ff&#x27;, &#x27;#980043ff&#x27;, &#x27;#980043ff&#x27;, &#x27;#980043ff&#x27;, &#x27;#980043ff&#x27;, &#x27;#980043ff&#x27;, &#x27;#980043ff&#x27;, &#x27;#980043ff&#x27;, &#x27;#980043ff&#x27;, &#x27;#980043ff&#x27;, &#x27;#980043ff&#x27;, &#x27;#980043ff&#x27;, &#x27;#980043ff&#x27;, &#x27;#980043ff&#x27;, &#x27;#980043ff&#x27;, &#x27;#980043ff&#x27;, &#x27;#980043ff&#x27;, &#x27;#980043ff&#x27;, &#x27;#980043ff&#x27;, &#x27;#980043ff&#x27;, &#x27;#980043ff&#x27;, &#x27;#980043ff&#x27;, &#x27;#980043ff&#x27;, &#x27;#980043ff&#x27;, &#x27;#980043ff&#x27;, &#x27;#980043ff&#x27;, &#x27;#980043ff&#x27;, &#x27;#980043ff&#x27;, &#x27;#980043ff&#x27;, &#x27;#980043ff&#x27;]);\n",
       "    \n",
       "\n",
       "    color_map_b604c3b9e97391b383e102906f0f7041.x = d3.scale.linear()\n",
       "              .domain([1528.5833333333333, 1982.25])\n",
       "              .range([0, 400]);\n",
       "\n",
       "    color_map_b604c3b9e97391b383e102906f0f7041.legend = L.control({position: &#x27;topright&#x27;});\n",
       "    color_map_b604c3b9e97391b383e102906f0f7041.legend.onAdd = function (map) {var div = L.DomUtil.create(&#x27;div&#x27;, &#x27;legend&#x27;); return div};\n",
       "    color_map_b604c3b9e97391b383e102906f0f7041.legend.addTo(map_b5555ef22d240753843dea69048a776f);\n",
       "\n",
       "    color_map_b604c3b9e97391b383e102906f0f7041.xAxis = d3.svg.axis()\n",
       "        .scale(color_map_b604c3b9e97391b383e102906f0f7041.x)\n",
       "        .orient(&quot;top&quot;)\n",
       "        .tickSize(1)\n",
       "        .tickValues([1528.5833333333333, 1604.1944444444443, 1679.8055555555554, 1755.4166666666665, 1831.0277777777778, 1906.638888888889, 1982.25]);\n",
       "\n",
       "    color_map_b604c3b9e97391b383e102906f0f7041.svg = d3.select(&quot;.legend.leaflet-control&quot;).append(&quot;svg&quot;)\n",
       "        .attr(&quot;id&quot;, &#x27;legend&#x27;)\n",
       "        .attr(&quot;width&quot;, 450)\n",
       "        .attr(&quot;height&quot;, 40);\n",
       "\n",
       "    color_map_b604c3b9e97391b383e102906f0f7041.g = color_map_b604c3b9e97391b383e102906f0f7041.svg.append(&quot;g&quot;)\n",
       "        .attr(&quot;class&quot;, &quot;key&quot;)\n",
       "        .attr(&quot;transform&quot;, &quot;translate(25,16)&quot;);\n",
       "\n",
       "    color_map_b604c3b9e97391b383e102906f0f7041.g.selectAll(&quot;rect&quot;)\n",
       "        .data(color_map_b604c3b9e97391b383e102906f0f7041.color.range().map(function(d, i) {\n",
       "          return {\n",
       "            x0: i ? color_map_b604c3b9e97391b383e102906f0f7041.x(color_map_b604c3b9e97391b383e102906f0f7041.color.domain()[i - 1]) : color_map_b604c3b9e97391b383e102906f0f7041.x.range()[0],\n",
       "            x1: i &lt; color_map_b604c3b9e97391b383e102906f0f7041.color.domain().length ? color_map_b604c3b9e97391b383e102906f0f7041.x(color_map_b604c3b9e97391b383e102906f0f7041.color.domain()[i]) : color_map_b604c3b9e97391b383e102906f0f7041.x.range()[1],\n",
       "            z: d\n",
       "          };\n",
       "        }))\n",
       "      .enter().append(&quot;rect&quot;)\n",
       "        .attr(&quot;height&quot;, 10)\n",
       "        .attr(&quot;x&quot;, function(d) { return d.x0; })\n",
       "        .attr(&quot;width&quot;, function(d) { return d.x1 - d.x0; })\n",
       "        .style(&quot;fill&quot;, function(d) { return d.z; });\n",
       "\n",
       "    color_map_b604c3b9e97391b383e102906f0f7041.g.call(color_map_b604c3b9e97391b383e102906f0f7041.xAxis).append(&quot;text&quot;)\n",
       "        .attr(&quot;class&quot;, &quot;caption&quot;)\n",
       "        .attr(&quot;y&quot;, 21)\n",
       "        .text(&#x27;&#x27;);\n",
       "&lt;/script&gt;\" style=\"position:absolute;width:100%;height:100%;left:0;top:0;border:none !important;\" allowfullscreen webkitallowfullscreen mozallowfullscreen></iframe></div></div>"
      ],
      "text/plain": [
       "<folium.folium.Map at 0x1a78946aaf0>"
      ]
     },
     "execution_count": 123,
     "metadata": {},
     "output_type": "execute_result"
    }
   ],
   "source": [
    "# 구별 어느 지역이 평균 가격이 높은지 지도 시각화를 해서 확인\n",
    "\n",
    "geo_path = \"../data/02. skorea_municipalities_geo_simple.json\"\n",
    "geo_str = json.load(open(geo_path, encoding=\"utf-8\"))\n",
    "\n",
    "my_map = folium.Map(location=[37.5502, 126.982], zoom_start=10.5, tiles=\"Stamen Toner\")\n",
    "my_map.choropleth(\n",
    "    geo_data=geo_str,\n",
    "    data=gu_data,\n",
    "    columns=[gu_data.index, \"가격\"],\n",
    "    key_on=\"feature.id\",\n",
    "    fill_color=\"PuRd\"\n",
    ")\n",
    "my_map"
   ]
  }
 ],
 "metadata": {
  "colab": {
   "name": "04. Oil Price Analysis and Green construction.ipynb",
   "provenance": []
  },
  "kernelspec": {
   "display_name": "Python 3",
   "language": "python",
   "name": "python3"
  },
  "language_info": {
   "codemirror_mode": {
    "name": "ipython",
    "version": 3
   },
   "file_extension": ".py",
   "mimetype": "text/x-python",
   "name": "python",
   "nbconvert_exporter": "python",
   "pygments_lexer": "ipython3",
   "version": "3.8.8"
  }
 },
 "nbformat": 4,
 "nbformat_minor": 5
}
